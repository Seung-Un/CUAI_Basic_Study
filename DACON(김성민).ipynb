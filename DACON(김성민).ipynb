{
  "nbformat": 4,
  "nbformat_minor": 0,
  "metadata": {
    "colab": {
      "provenance": []
    },
    "kernelspec": {
      "name": "python3",
      "display_name": "Python 3"
    },
    "language_info": {
      "name": "python"
    }
  },
  "cells": [
    {
      "cell_type": "code",
      "execution_count": null,
      "metadata": {
        "colab": {
          "base_uri": "https://localhost:8080/"
        },
        "id": "VvE7XxYzZ8v2",
        "outputId": "602c933d-3314-4a35-812b-aa62a53adb6a"
      },
      "outputs": [
        {
          "output_type": "stream",
          "name": "stdout",
          "text": [
            "Collecting optuna==4.3.0\n",
            "  Downloading optuna-4.3.0-py3-none-any.whl.metadata (17 kB)\n",
            "Collecting alembic>=1.5.0 (from optuna==4.3.0)\n",
            "  Downloading alembic-1.15.2-py3-none-any.whl.metadata (7.3 kB)\n",
            "Collecting colorlog (from optuna==4.3.0)\n",
            "  Downloading colorlog-6.9.0-py3-none-any.whl.metadata (10 kB)\n",
            "Requirement already satisfied: numpy in /usr/local/lib/python3.11/dist-packages (from optuna==4.3.0) (2.0.2)\n",
            "Requirement already satisfied: packaging>=20.0 in /usr/local/lib/python3.11/dist-packages (from optuna==4.3.0) (24.2)\n",
            "Requirement already satisfied: sqlalchemy>=1.4.2 in /usr/local/lib/python3.11/dist-packages (from optuna==4.3.0) (2.0.40)\n",
            "Requirement already satisfied: tqdm in /usr/local/lib/python3.11/dist-packages (from optuna==4.3.0) (4.67.1)\n",
            "Requirement already satisfied: PyYAML in /usr/local/lib/python3.11/dist-packages (from optuna==4.3.0) (6.0.2)\n",
            "Requirement already satisfied: Mako in /usr/lib/python3/dist-packages (from alembic>=1.5.0->optuna==4.3.0) (1.1.3)\n",
            "Requirement already satisfied: typing-extensions>=4.12 in /usr/local/lib/python3.11/dist-packages (from alembic>=1.5.0->optuna==4.3.0) (4.13.2)\n",
            "Requirement already satisfied: greenlet>=1 in /usr/local/lib/python3.11/dist-packages (from sqlalchemy>=1.4.2->optuna==4.3.0) (3.2.2)\n",
            "Downloading optuna-4.3.0-py3-none-any.whl (386 kB)\n",
            "\u001b[2K   \u001b[90m━━━━━━━━━━━━━━━━━━━━━━━━━━━━━━━━━━━━━━━━\u001b[0m \u001b[32m386.6/386.6 kB\u001b[0m \u001b[31m17.0 MB/s\u001b[0m eta \u001b[36m0:00:00\u001b[0m\n",
            "\u001b[?25hDownloading alembic-1.15.2-py3-none-any.whl (231 kB)\n",
            "\u001b[2K   \u001b[90m━━━━━━━━━━━━━━━━━━━━━━━━━━━━━━━━━━━━━━━━\u001b[0m \u001b[32m231.9/231.9 kB\u001b[0m \u001b[31m18.4 MB/s\u001b[0m eta \u001b[36m0:00:00\u001b[0m\n",
            "\u001b[?25hDownloading colorlog-6.9.0-py3-none-any.whl (11 kB)\n",
            "Installing collected packages: colorlog, alembic, optuna\n",
            "Successfully installed alembic-1.15.2 colorlog-6.9.0 optuna-4.3.0\n"
          ]
        }
      ],
      "source": [
        "pip install optuna==4.3.0"
      ]
    },
    {
      "cell_type": "code",
      "source": [
        "import numpy as np\n",
        "import pandas as pd\n",
        "import optuna\n",
        "from xgboost import XGBRegressor\n",
        "from sklearn.ensemble import RandomForestRegressor, VotingRegressor\n",
        "from sklearn.preprocessing import LabelEncoder\n",
        "from sklearn.model_selection import cross_val_score"
      ],
      "metadata": {
        "id": "IAQIpJGTaCQz"
      },
      "execution_count": null,
      "outputs": []
    },
    {
      "cell_type": "code",
      "source": [
        "# 데이터 불러오기\n",
        "train = pd.read_csv('train.csv')\n",
        "test = pd.read_csv('test.csv')\n",
        "submission = pd.read_csv('sample_submission.csv')"
      ],
      "metadata": {
        "id": "RFV7mXyWaEuD"
      },
      "execution_count": null,
      "outputs": []
    },
    {
      "cell_type": "code",
      "source": [
        "# 결측값 처리\n",
        "categorical_cols = ['분야', '기업가치(백억원)']\n",
        "for col in categorical_cols:\n",
        "    train[col] = train[col].fillna(train[col].mode()[0])\n",
        "    test[col] = test[col].fillna(test[col].mode()[0])\n",
        "\n",
        "numerical_cols = ['직원 수', '고객수(백만명)']\n",
        "for col in numerical_cols:\n",
        "    train[col] = train[col].fillna(train[col].median())\n",
        "    test[col] = test[col].fillna(test[col].median())\n",
        "\n",
        "# 범주형 인코딩\n",
        "categorical_features = ['국가', '분야', '투자단계', '인수여부', '상장여부', '기업가치(백억원)']\n",
        "for feature in categorical_features:\n",
        "    le = LabelEncoder()\n",
        "    train[feature] = le.fit_transform(train[feature].astype(str))\n",
        "    test[feature] = le.transform(test[feature].astype(str))"
      ],
      "metadata": {
        "id": "HxCgTrpsaIUh"
      },
      "execution_count": null,
      "outputs": []
    },
    {
      "cell_type": "code",
      "source": [
        "### 확인\n",
        "pd.set_option('display.max_columns', None)\n",
        "print(train.head())"
      ],
      "metadata": {
        "colab": {
          "base_uri": "https://localhost:8080/"
        },
        "id": "CH6cVDP37XlT",
        "outputId": "6b15cfd6-5f03-4b00-e9fe-e26933143519"
      },
      "execution_count": null,
      "outputs": [
        {
          "output_type": "stream",
          "name": "stdout",
          "text": [
            "           ID  설립연도  국가  분야  투자단계    직원 수  인수여부  상장여부  고객수(백만명)  총 투자금(억원)  \\\n",
            "0  TRAIN_0000  2009   4   6     2  4126.0     0     0      56.0     3365.0   \n",
            "1  TRAIN_0001  2023   5   8     1  4167.0     1     0      80.0     4069.0   \n",
            "2  TRAIN_0002  2018   6   2     2  3132.0     1     1      54.0     6453.0   \n",
            "3  TRAIN_0003  2016   5   4     1  3245.0     1     1      49.0      665.0   \n",
            "4  TRAIN_0004  2020   1   5     1  1969.0     0     1      94.0      829.0   \n",
            "\n",
            "   연매출(억원)  SNS 팔로워 수(백만명)  기업가치(백억원)  성공확률  \n",
            "0   4764.0            4.71          3   0.3  \n",
            "1    279.0            1.00          1   0.8  \n",
            "2  12141.0            4.00          2   0.5  \n",
            "3  10547.0            2.97          3   0.7  \n",
            "4   9810.0            1.00          0   0.1  \n"
          ]
        }
      ]
    },
    {
      "cell_type": "code",
      "source": [
        "# 1. 효율성 기반 비율 피처\n",
        "train['직원당연매출'] = train['연매출(억원)'] / (train['직원 수'] + 1)\n",
        "train['팔로워당매출'] = train['연매출(억원)'] / (train['SNS 팔로워 수(백만명)'] + 1)\n",
        "train['투자금대비매출'] = train['연매출(억원)'] / (train['총 투자금(억원)'] + 1)\n",
        "train['기업가치대비투자'] = train['총 투자금(억원)'] / (train['기업가치(백억원)'] + 1)\n",
        "\n",
        "# 2. 로그 변환 (수치가 치우친 변수들)\n",
        "train['log_연매출'] = np.log1p(train['연매출(억원)'])\n",
        "train['log_투자금'] = np.log1p(train['총 투자금(억원)'])\n",
        "train['log_직원수'] = np.log1p(train['직원 수'])\n",
        "train['log_팔로워'] = np.log1p(train['SNS 팔로워 수(백만명)'])\n",
        "\n",
        "# 3. 순위 기반 피처 (상대적 크기 강조)\n",
        "train['연매출순위'] = train['연매출(억원)'].rank(pct=True)\n",
        "train['직원수순위'] = train['직원 수'].rank(pct=True)\n",
        "\n",
        "# 4. 시간 기반 피처\n",
        "train['기업연차'] = 2025 - train['설립연도']\n",
        "\n",
        "# 5. 범주형 그룹핑 예시 (헬스케어/핀테크 분리)\n",
        "train['핫분야'] = train['분야'].apply(lambda x: 1 if x in ['헬스케어', '핀테크'] else 0)"
      ],
      "metadata": {
        "id": "AGc1-Ea78SSL"
      },
      "execution_count": null,
      "outputs": []
    },
    {
      "cell_type": "code",
      "source": [
        "#상관관계 분석\n",
        "#train = train.drop(columns=['ID'])\n",
        "train.corr()['성공확률'].sort_values(ascending=False)\n"
      ],
      "metadata": {
        "colab": {
          "base_uri": "https://localhost:8080/",
          "height": 858
        },
        "id": "0Z93vYvw7iFi",
        "outputId": "fb131115-692e-4fe1-fd5d-78996b9f043e"
      },
      "execution_count": null,
      "outputs": [
        {
          "output_type": "execute_result",
          "data": {
            "text/plain": [
              "성공확률              1.000000\n",
              "기업가치(백억원)         0.033876\n",
              "상장여부              0.031413\n",
              "국가                0.029570\n",
              "log_팔로워           0.020756\n",
              "SNS 팔로워 수(백만명)    0.017927\n",
              "직원당연매출            0.009359\n",
              "설립연도              0.002147\n",
              "기업연차             -0.002147\n",
              "투자단계             -0.007835\n",
              "직원 수             -0.011580\n",
              "직원수순위            -0.012050\n",
              "인수여부             -0.012065\n",
              "고객수(백만명)         -0.012182\n",
              "log_투자금          -0.012281\n",
              "log_연매출          -0.013664\n",
              "투자금대비매출          -0.014528\n",
              "분야               -0.014826\n",
              "총 투자금(억원)        -0.014939\n",
              "기업가치대비투자         -0.018809\n",
              "연매출순위            -0.018905\n",
              "연매출(억원)          -0.018994\n",
              "log_직원수          -0.022429\n",
              "팔로워당매출           -0.022978\n",
              "핫분야                    NaN\n",
              "Name: 성공확률, dtype: float64"
            ],
            "text/html": [
              "<div>\n",
              "<style scoped>\n",
              "    .dataframe tbody tr th:only-of-type {\n",
              "        vertical-align: middle;\n",
              "    }\n",
              "\n",
              "    .dataframe tbody tr th {\n",
              "        vertical-align: top;\n",
              "    }\n",
              "\n",
              "    .dataframe thead th {\n",
              "        text-align: right;\n",
              "    }\n",
              "</style>\n",
              "<table border=\"1\" class=\"dataframe\">\n",
              "  <thead>\n",
              "    <tr style=\"text-align: right;\">\n",
              "      <th></th>\n",
              "      <th>성공확률</th>\n",
              "    </tr>\n",
              "  </thead>\n",
              "  <tbody>\n",
              "    <tr>\n",
              "      <th>성공확률</th>\n",
              "      <td>1.000000</td>\n",
              "    </tr>\n",
              "    <tr>\n",
              "      <th>기업가치(백억원)</th>\n",
              "      <td>0.033876</td>\n",
              "    </tr>\n",
              "    <tr>\n",
              "      <th>상장여부</th>\n",
              "      <td>0.031413</td>\n",
              "    </tr>\n",
              "    <tr>\n",
              "      <th>국가</th>\n",
              "      <td>0.029570</td>\n",
              "    </tr>\n",
              "    <tr>\n",
              "      <th>log_팔로워</th>\n",
              "      <td>0.020756</td>\n",
              "    </tr>\n",
              "    <tr>\n",
              "      <th>SNS 팔로워 수(백만명)</th>\n",
              "      <td>0.017927</td>\n",
              "    </tr>\n",
              "    <tr>\n",
              "      <th>직원당연매출</th>\n",
              "      <td>0.009359</td>\n",
              "    </tr>\n",
              "    <tr>\n",
              "      <th>설립연도</th>\n",
              "      <td>0.002147</td>\n",
              "    </tr>\n",
              "    <tr>\n",
              "      <th>기업연차</th>\n",
              "      <td>-0.002147</td>\n",
              "    </tr>\n",
              "    <tr>\n",
              "      <th>투자단계</th>\n",
              "      <td>-0.007835</td>\n",
              "    </tr>\n",
              "    <tr>\n",
              "      <th>직원 수</th>\n",
              "      <td>-0.011580</td>\n",
              "    </tr>\n",
              "    <tr>\n",
              "      <th>직원수순위</th>\n",
              "      <td>-0.012050</td>\n",
              "    </tr>\n",
              "    <tr>\n",
              "      <th>인수여부</th>\n",
              "      <td>-0.012065</td>\n",
              "    </tr>\n",
              "    <tr>\n",
              "      <th>고객수(백만명)</th>\n",
              "      <td>-0.012182</td>\n",
              "    </tr>\n",
              "    <tr>\n",
              "      <th>log_투자금</th>\n",
              "      <td>-0.012281</td>\n",
              "    </tr>\n",
              "    <tr>\n",
              "      <th>log_연매출</th>\n",
              "      <td>-0.013664</td>\n",
              "    </tr>\n",
              "    <tr>\n",
              "      <th>투자금대비매출</th>\n",
              "      <td>-0.014528</td>\n",
              "    </tr>\n",
              "    <tr>\n",
              "      <th>분야</th>\n",
              "      <td>-0.014826</td>\n",
              "    </tr>\n",
              "    <tr>\n",
              "      <th>총 투자금(억원)</th>\n",
              "      <td>-0.014939</td>\n",
              "    </tr>\n",
              "    <tr>\n",
              "      <th>기업가치대비투자</th>\n",
              "      <td>-0.018809</td>\n",
              "    </tr>\n",
              "    <tr>\n",
              "      <th>연매출순위</th>\n",
              "      <td>-0.018905</td>\n",
              "    </tr>\n",
              "    <tr>\n",
              "      <th>연매출(억원)</th>\n",
              "      <td>-0.018994</td>\n",
              "    </tr>\n",
              "    <tr>\n",
              "      <th>log_직원수</th>\n",
              "      <td>-0.022429</td>\n",
              "    </tr>\n",
              "    <tr>\n",
              "      <th>팔로워당매출</th>\n",
              "      <td>-0.022978</td>\n",
              "    </tr>\n",
              "    <tr>\n",
              "      <th>핫분야</th>\n",
              "      <td>NaN</td>\n",
              "    </tr>\n",
              "  </tbody>\n",
              "</table>\n",
              "</div><br><label><b>dtype:</b> float64</label>"
            ]
          },
          "metadata": {},
          "execution_count": 9
        }
      ]
    },
    {
      "cell_type": "code",
      "source": [
        "### 확인\n",
        "pd.set_option('display.max_columns', None)\n",
        "print(train.head())"
      ],
      "metadata": {
        "id": "T5fTjkMi8YZf",
        "outputId": "a3bc305b-9060-4b58-871c-bae87fd3ae91",
        "colab": {
          "base_uri": "https://localhost:8080/"
        }
      },
      "execution_count": null,
      "outputs": [
        {
          "output_type": "stream",
          "name": "stdout",
          "text": [
            "   설립연도  국가  분야  투자단계    직원 수  인수여부  상장여부  고객수(백만명)  총 투자금(억원)  연매출(억원)  \\\n",
            "0  2009   4   6     2  4126.0     0     0      56.0     3365.0   4764.0   \n",
            "1  2023   5   8     1  4167.0     1     0      80.0     4069.0    279.0   \n",
            "2  2018   6   2     2  3132.0     1     1      54.0     6453.0  12141.0   \n",
            "3  2016   5   4     1  3245.0     1     1      49.0      665.0  10547.0   \n",
            "4  2020   1   5     1  1969.0     0     1      94.0      829.0   9810.0   \n",
            "\n",
            "   SNS 팔로워 수(백만명)  기업가치(백억원)  성공확률    직원당연매출       팔로워당매출    투자금대비매출  \\\n",
            "0            4.71          3   0.3  1.154349   834.325744   1.415330   \n",
            "1            1.00          1   0.8  0.066939   139.500000   0.068550   \n",
            "2            4.00          2   0.5  3.875199  2428.200000   1.881159   \n",
            "3            2.97          3   0.7  3.249230  2656.675063  15.836336   \n",
            "4            1.00          0   0.1  4.979695  4905.000000  11.819277   \n",
            "\n",
            "   기업가치대비투자   log_연매출   log_투자금   log_직원수   log_팔로워     연매출순위     직원수순위  기업연차  \\\n",
            "0    841.25  8.469053  8.121480  8.325306  1.742219  0.375229  0.837523    16   \n",
            "1   2034.50  5.634790  8.311398  8.335192  0.693147  0.016111  0.847463     2   \n",
            "2   2151.00  9.404426  8.772455  8.049746  1.609438  0.938985  0.649566     7   \n",
            "3    166.25  9.263692  6.501290  8.085179  1.378766  0.816956  0.671047     9   \n",
            "4    829.00  9.191259  6.721426  7.585789  0.693147  0.759369  0.382427     5   \n",
            "\n",
            "   핫분야  \n",
            "0    0  \n",
            "1    0  \n",
            "2    0  \n",
            "3    0  \n",
            "4    0  \n"
          ]
        }
      ]
    },
    {
      "cell_type": "code",
      "source": [
        "# 데이터 분리\n",
        "X_train = train.drop(columns=['ID', '성공확률'])\n",
        "y_train = train['성공확률']\n",
        "\n",
        "# Optuna - XGBoost (n_estimators 고정)\n",
        "def objective_xgb(trial):\n",
        "    model = XGBRegressor(\n",
        "        n_estimators=500,  # 고정\n",
        "        learning_rate=trial.suggest_float('learning_rate', 0.01, 0.3),\n",
        "        max_depth=trial.suggest_int('max_depth', 3, 30),\n",
        "        min_child_weight=trial.suggest_int('min_child_weight', 1, 10),\n",
        "        subsample=trial.suggest_float('subsample', 0.5, 1.0),\n",
        "        colsample_bytree=trial.suggest_float('colsample_bytree', 0.5, 1.0),\n",
        "        reg_alpha=trial.suggest_float('reg_alpha', 0.0, 1.0),\n",
        "        reg_lambda=trial.suggest_float('reg_lambda', 0.0, 1.0),\n",
        "        random_state=42,\n",
        "        n_jobs=-1\n",
        "    )\n",
        "    return cross_val_score(model, X_train, y_train, cv=5, scoring='neg_mean_absolute_error', n_jobs=-1).mean()\n",
        "\n",
        "study_xgb = optuna.create_study(direction='maximize')\n",
        "study_xgb.optimize(objective_xgb, n_trials=30)\n",
        "\n",
        "xgb_model = XGBRegressor(**study_xgb.best_params, n_estimators=500, random_state=42, n_jobs=-1)\n",
        "\n",
        "# Optuna - RandomForest (n_estimators 고정)\n",
        "def objective_rf(trial):\n",
        "    model = RandomForestRegressor(\n",
        "        n_estimators=500,  # 고정\n",
        "        max_depth=trial.suggest_int('max_depth', 3, 20),\n",
        "        min_samples_split=trial.suggest_int('min_samples_split', 2, 10),\n",
        "        min_samples_leaf=trial.suggest_int('min_samples_leaf', 1, 4),\n",
        "        max_features=trial.suggest_categorical('max_features', ['sqrt', 'log2', None]),\n",
        "        random_state=42,\n",
        "        n_jobs=-1\n",
        "    )\n",
        "    return cross_val_score(model, X_train, y_train, cv=5, scoring='neg_mean_absolute_error', n_jobs=-1).mean()\n",
        "\n",
        "study_rf = optuna.create_study(direction='maximize')\n",
        "study_rf.optimize(objective_rf, n_trials=30)\n",
        "\n",
        "rf_model = RandomForestRegressor(**study_rf.best_params, n_estimators=500, random_state=42, n_jobs=-1)"
      ],
      "metadata": {
        "colab": {
          "base_uri": "https://localhost:8080/"
        },
        "id": "zayqsU31aQPz",
        "outputId": "b8ee9615-cecc-44ff-bec0-989864cf4577"
      },
      "execution_count": null,
      "outputs": [
        {
          "output_type": "stream",
          "name": "stderr",
          "text": [
            "[I 2025-05-16 04:45:08,204] A new study created in memory with name: no-name-aeaf8d6d-144e-402c-8b4b-61a0b722f58c\n",
            "[I 2025-05-16 04:45:18,307] Trial 0 finished with value: -0.21244158070723915 and parameters: {'learning_rate': 0.22833003012112513, 'max_depth': 23, 'min_child_weight': 7, 'subsample': 0.7912800674185398, 'colsample_bytree': 0.7569578098431622, 'reg_alpha': 0.051428405453881165, 'reg_lambda': 0.1302315442349513}. Best is trial 0 with value: -0.21244158070723915.\n",
            "[I 2025-05-16 04:45:22,089] Trial 1 finished with value: -0.20936766939523554 and parameters: {'learning_rate': 0.09920879900558476, 'max_depth': 6, 'min_child_weight': 1, 'subsample': 0.9251151198342584, 'colsample_bytree': 0.7213062894076061, 'reg_alpha': 0.036217932714581846, 'reg_lambda': 0.7352391244133477}. Best is trial 1 with value: -0.20936766939523554.\n",
            "[I 2025-05-16 04:45:26,354] Trial 2 finished with value: -0.21071597657640698 and parameters: {'learning_rate': 0.1821874339543086, 'max_depth': 15, 'min_child_weight': 7, 'subsample': 0.7520733437919376, 'colsample_bytree': 0.5006114734836375, 'reg_alpha': 0.7298953996416842, 'reg_lambda': 0.6284268361776768}. Best is trial 1 with value: -0.20936766939523554.\n",
            "[I 2025-05-16 04:45:27,463] Trial 3 finished with value: -0.21083753123344975 and parameters: {'learning_rate': 0.19192362497933008, 'max_depth': 3, 'min_child_weight': 6, 'subsample': 0.9834790627249297, 'colsample_bytree': 0.5705713051937897, 'reg_alpha': 0.8831443109065046, 'reg_lambda': 0.903585758617045}. Best is trial 1 with value: -0.20936766939523554.\n",
            "[I 2025-05-16 04:45:32,308] Trial 4 finished with value: -0.2158804700285756 and parameters: {'learning_rate': 0.2918719895552576, 'max_depth': 7, 'min_child_weight': 3, 'subsample': 0.9280192104479797, 'colsample_bytree': 0.843745213468843, 'reg_alpha': 0.9604198017105253, 'reg_lambda': 0.688316090428772}. Best is trial 1 with value: -0.20936766939523554.\n",
            "[I 2025-05-16 04:45:40,412] Trial 5 finished with value: -0.2075913778007536 and parameters: {'learning_rate': 0.09915397427482622, 'max_depth': 10, 'min_child_weight': 2, 'subsample': 0.896060054762305, 'colsample_bytree': 0.9796504746823194, 'reg_alpha': 0.9491547355523237, 'reg_lambda': 0.6559179125639008}. Best is trial 5 with value: -0.2075913778007536.\n",
            "[I 2025-05-16 04:45:46,254] Trial 6 finished with value: -0.21026494527432554 and parameters: {'learning_rate': 0.2370931292122027, 'max_depth': 19, 'min_child_weight': 9, 'subsample': 0.9265288426818052, 'colsample_bytree': 0.8303005733766886, 'reg_alpha': 0.903600011509583, 'reg_lambda': 0.5866691824813313}. Best is trial 5 with value: -0.2075913778007536.\n",
            "[I 2025-05-16 04:46:05,089] Trial 7 finished with value: -0.20243107003839828 and parameters: {'learning_rate': 0.066063639431532, 'max_depth': 16, 'min_child_weight': 2, 'subsample': 0.8057786875384739, 'colsample_bytree': 0.9176778145052304, 'reg_alpha': 0.16067704157603246, 'reg_lambda': 0.35393854462943675}. Best is trial 7 with value: -0.20243107003839828.\n",
            "[I 2025-05-16 04:46:10,166] Trial 8 finished with value: -0.21921733432322354 and parameters: {'learning_rate': 0.25552133367623026, 'max_depth': 20, 'min_child_weight': 7, 'subsample': 0.5329917669468484, 'colsample_bytree': 0.6419723752263367, 'reg_alpha': 0.14000644903287074, 'reg_lambda': 0.4055351187394689}. Best is trial 7 with value: -0.20243107003839828.\n",
            "[I 2025-05-16 04:46:26,514] Trial 9 finished with value: -0.20636217194649106 and parameters: {'learning_rate': 0.07940726362157975, 'max_depth': 29, 'min_child_weight': 3, 'subsample': 0.6092625339144664, 'colsample_bytree': 0.7561959540517902, 'reg_alpha': 0.0037766242719470267, 'reg_lambda': 0.22147968083589675}. Best is trial 7 with value: -0.20243107003839828.\n",
            "[I 2025-05-16 04:46:43,295] Trial 10 finished with value: -0.20369276620523805 and parameters: {'learning_rate': 0.024898474034584908, 'max_depth': 13, 'min_child_weight': 4, 'subsample': 0.6711184706172943, 'colsample_bytree': 0.9929451332219352, 'reg_alpha': 0.3199144589794765, 'reg_lambda': 0.35398658148809914}. Best is trial 7 with value: -0.20243107003839828.\n",
            "[I 2025-05-16 04:47:00,655] Trial 11 finished with value: -0.2025358633961883 and parameters: {'learning_rate': 0.011575113849122964, 'max_depth': 13, 'min_child_weight': 4, 'subsample': 0.6614746222830898, 'colsample_bytree': 0.9946761536014528, 'reg_alpha': 0.34158111111711026, 'reg_lambda': 0.3716350182858515}. Best is trial 7 with value: -0.20243107003839828.\n",
            "[I 2025-05-16 04:47:18,705] Trial 12 finished with value: -0.2023672269410723 and parameters: {'learning_rate': 0.012296088355800434, 'max_depth': 13, 'min_child_weight': 4, 'subsample': 0.7985595718549532, 'colsample_bytree': 0.9083696302250108, 'reg_alpha': 0.42470776271319377, 'reg_lambda': 0.30455374194734275}. Best is trial 12 with value: -0.2023672269410723.\n",
            "[I 2025-05-16 04:47:37,743] Trial 13 finished with value: -0.2033207969126356 and parameters: {'learning_rate': 0.05310603172085915, 'max_depth': 24, 'min_child_weight': 1, 'subsample': 0.8253346513495744, 'colsample_bytree': 0.8926470096664145, 'reg_alpha': 0.5159180973844321, 'reg_lambda': 0.03774733924967644}. Best is trial 12 with value: -0.2023672269410723.\n",
            "[I 2025-05-16 04:47:47,268] Trial 14 finished with value: -0.2081154654369927 and parameters: {'learning_rate': 0.1343405685949019, 'max_depth': 17, 'min_child_weight': 5, 'subsample': 0.8403604534825708, 'colsample_bytree': 0.9020183813704017, 'reg_alpha': 0.28521565993001013, 'reg_lambda': 0.22249314605230636}. Best is trial 12 with value: -0.2023672269410723.\n",
            "[I 2025-05-16 04:47:57,028] Trial 15 finished with value: -0.2062097798877344 and parameters: {'learning_rate': 0.05361743309904014, 'max_depth': 10, 'min_child_weight': 3, 'subsample': 0.719181705384144, 'colsample_bytree': 0.912696392257782, 'reg_alpha': 0.5325018780166448, 'reg_lambda': 0.4958554168936677}. Best is trial 12 with value: -0.2023672269410723.\n",
            "[I 2025-05-16 04:48:04,773] Trial 16 finished with value: -0.20874534283799512 and parameters: {'learning_rate': 0.12712752633636093, 'max_depth': 23, 'min_child_weight': 10, 'subsample': 0.8563740427298443, 'colsample_bytree': 0.8310010026644057, 'reg_alpha': 0.6490868377799721, 'reg_lambda': 0.26450881669534765}. Best is trial 12 with value: -0.2023672269410723.\n",
            "[I 2025-05-16 04:48:16,666] Trial 17 finished with value: -0.20536980161219426 and parameters: {'learning_rate': 0.05048235566598289, 'max_depth': 10, 'min_child_weight': 5, 'subsample': 0.7648643993281213, 'colsample_bytree': 0.9336243615048652, 'reg_alpha': 0.20705781023948552, 'reg_lambda': 0.009764405908511686}. Best is trial 12 with value: -0.2023672269410723.\n",
            "[I 2025-05-16 04:48:32,430] Trial 18 finished with value: -0.2025380454401214 and parameters: {'learning_rate': 0.033335015300041515, 'max_depth': 15, 'min_child_weight': 2, 'subsample': 0.6893484101637365, 'colsample_bytree': 0.692264394116286, 'reg_alpha': 0.4167199526144272, 'reg_lambda': 0.5005272306841271}. Best is trial 12 with value: -0.2023672269410723.\n",
            "[I 2025-05-16 04:48:44,768] Trial 19 finished with value: -0.20487396715015427 and parameters: {'learning_rate': 0.07743586071629657, 'max_depth': 28, 'min_child_weight': 4, 'subsample': 0.620716108233649, 'colsample_bytree': 0.8061602543642497, 'reg_alpha': 0.181296005181099, 'reg_lambda': 0.9998482831585218}. Best is trial 12 with value: -0.2023672269410723.\n",
            "[I 2025-05-16 04:48:50,555] Trial 20 finished with value: -0.2068945246927262 and parameters: {'learning_rate': 0.16001021909270774, 'max_depth': 20, 'min_child_weight': 2, 'subsample': 0.9962586933463418, 'colsample_bytree': 0.9429230337878862, 'reg_alpha': 0.6506241721209192, 'reg_lambda': 0.14848794290203388}. Best is trial 12 with value: -0.2023672269410723.\n",
            "[I 2025-05-16 04:49:08,815] Trial 21 finished with value: -0.20230307974350664 and parameters: {'learning_rate': 0.010061667233845974, 'max_depth': 13, 'min_child_weight': 4, 'subsample': 0.636983976900346, 'colsample_bytree': 0.9858455432011348, 'reg_alpha': 0.38287471454603506, 'reg_lambda': 0.3454033896030735}. Best is trial 21 with value: -0.20230307974350664.\n",
            "[I 2025-05-16 04:49:17,861] Trial 22 finished with value: -0.2051407259796736 and parameters: {'learning_rate': 0.027578750972736297, 'max_depth': 12, 'min_child_weight': 6, 'subsample': 0.5038566900218897, 'colsample_bytree': 0.8785771026869125, 'reg_alpha': 0.4243347541722976, 'reg_lambda': 0.4435243845012565}. Best is trial 21 with value: -0.20230307974350664.\n",
            "[I 2025-05-16 04:49:41,976] Trial 23 finished with value: -0.20239160779513182 and parameters: {'learning_rate': 0.01098408290680742, 'max_depth': 17, 'min_child_weight': 4, 'subsample': 0.7981214998622796, 'colsample_bytree': 0.9427749879481232, 'reg_alpha': 0.4049820460101018, 'reg_lambda': 0.29713604990637277}. Best is trial 21 with value: -0.20230307974350664.\n",
            "[I 2025-05-16 04:49:58,614] Trial 24 finished with value: -0.20354696079143259 and parameters: {'learning_rate': 0.013554073191606142, 'max_depth': 18, 'min_child_weight': 5, 'subsample': 0.5983302102031005, 'colsample_bytree': 0.9459803184853328, 'reg_alpha': 0.40899605138388845, 'reg_lambda': 0.29515946140004273}. Best is trial 21 with value: -0.20230307974350664.\n",
            "[I 2025-05-16 04:50:07,477] Trial 25 finished with value: -0.20620686386280798 and parameters: {'learning_rate': 0.0383457612477269, 'max_depth': 8, 'min_child_weight': 4, 'subsample': 0.7276073439964837, 'colsample_bytree': 0.9616443898202122, 'reg_alpha': 0.5552758744487625, 'reg_lambda': 0.12645139254722476}. Best is trial 21 with value: -0.20230307974350664.\n",
            "[I 2025-05-16 04:50:17,108] Trial 26 finished with value: -0.20678026150338105 and parameters: {'learning_rate': 0.09398384262090248, 'max_depth': 14, 'min_child_weight': 6, 'subsample': 0.8636608075672022, 'colsample_bytree': 0.8671868368001393, 'reg_alpha': 0.6030141037527872, 'reg_lambda': 0.5098553573166161}. Best is trial 21 with value: -0.20230307974350664.\n",
            "[I 2025-05-16 04:50:30,958] Trial 27 finished with value: -0.20221100021804306 and parameters: {'learning_rate': 0.012101313856206632, 'max_depth': 11, 'min_child_weight': 3, 'subsample': 0.776023401869203, 'colsample_bytree': 0.7899125621187166, 'reg_alpha': 0.4409137171055, 'reg_lambda': 0.3079412076730977}. Best is trial 27 with value: -0.20221100021804306.\n",
            "[I 2025-05-16 04:50:33,518] Trial 28 finished with value: -0.21429902301009546 and parameters: {'learning_rate': 0.11804961330053959, 'max_depth': 5, 'min_child_weight': 3, 'subsample': 0.5556003482315407, 'colsample_bytree': 0.8011102049059418, 'reg_alpha': 0.7814716128660257, 'reg_lambda': 0.20711745738041157}. Best is trial 27 with value: -0.20221100021804306.\n",
            "[I 2025-05-16 04:50:41,782] Trial 29 finished with value: -0.20609758924172664 and parameters: {'learning_rate': 0.041892469047331564, 'max_depth': 9, 'min_child_weight': 5, 'subsample': 0.7172678418406022, 'colsample_bytree': 0.7827465316033412, 'reg_alpha': 0.25607459532809274, 'reg_lambda': 0.07678796855647585}. Best is trial 27 with value: -0.20221100021804306.\n",
            "[I 2025-05-16 04:50:41,785] A new study created in memory with name: no-name-268a83c2-da0f-434d-adc3-c59663d1d5a9\n",
            "[I 2025-05-16 04:50:53,437] Trial 0 finished with value: -0.20297859473563826 and parameters: {'max_depth': 10, 'min_samples_split': 9, 'min_samples_leaf': 4, 'max_features': 'log2'}. Best is trial 0 with value: -0.20297859473563826.\n",
            "[I 2025-05-16 04:51:06,455] Trial 1 finished with value: -0.20254835739543683 and parameters: {'max_depth': 11, 'min_samples_split': 9, 'min_samples_leaf': 1, 'max_features': 'sqrt'}. Best is trial 1 with value: -0.20254835739543683.\n",
            "[I 2025-05-16 04:51:35,770] Trial 2 finished with value: -0.20320444849624275 and parameters: {'max_depth': 8, 'min_samples_split': 7, 'min_samples_leaf': 3, 'max_features': None}. Best is trial 1 with value: -0.20254835739543683.\n",
            "[I 2025-05-16 04:52:20,967] Trial 3 finished with value: -0.2015545687767283 and parameters: {'max_depth': 16, 'min_samples_split': 2, 'min_samples_leaf': 3, 'max_features': None}. Best is trial 3 with value: -0.2015545687767283.\n",
            "[I 2025-05-16 04:52:37,171] Trial 4 finished with value: -0.2021744262485412 and parameters: {'max_depth': 19, 'min_samples_split': 3, 'min_samples_leaf': 3, 'max_features': 'sqrt'}. Best is trial 3 with value: -0.2015545687767283.\n",
            "[I 2025-05-16 04:52:52,463] Trial 5 finished with value: -0.2018946340084089 and parameters: {'max_depth': 14, 'min_samples_split': 5, 'min_samples_leaf': 2, 'max_features': 'sqrt'}. Best is trial 3 with value: -0.2015545687767283.\n",
            "[I 2025-05-16 04:53:03,914] Trial 6 finished with value: -0.20317013052797708 and parameters: {'max_depth': 9, 'min_samples_split': 9, 'min_samples_leaf': 2, 'max_features': 'log2'}. Best is trial 3 with value: -0.2015545687767283.\n",
            "[I 2025-05-16 04:53:11,025] Trial 7 finished with value: -0.2045535709813433 and parameters: {'max_depth': 3, 'min_samples_split': 10, 'min_samples_leaf': 4, 'max_features': 'log2'}. Best is trial 3 with value: -0.2015545687767283.\n",
            "[I 2025-05-16 04:54:00,612] Trial 8 finished with value: -0.2010922069361542 and parameters: {'max_depth': 18, 'min_samples_split': 7, 'min_samples_leaf': 1, 'max_features': None}. Best is trial 8 with value: -0.2010922069361542.\n",
            "[I 2025-05-16 04:54:16,280] Trial 9 finished with value: -0.20203076129469424 and parameters: {'max_depth': 15, 'min_samples_split': 6, 'min_samples_leaf': 3, 'max_features': 'sqrt'}. Best is trial 8 with value: -0.2010922069361542.\n",
            "[I 2025-05-16 04:55:11,150] Trial 10 finished with value: -0.20072484781358813 and parameters: {'max_depth': 20, 'min_samples_split': 4, 'min_samples_leaf': 1, 'max_features': None}. Best is trial 10 with value: -0.20072484781358813.\n",
            "/usr/local/lib/python3.11/dist-packages/joblib/externals/loky/process_executor.py:782: UserWarning: A worker stopped while some jobs were given to the executor. This can be caused by a too short worker timeout or by a memory leak.\n",
            "  warnings.warn(\n",
            "[I 2025-05-16 04:56:11,265] Trial 11 finished with value: -0.20072484781358813 and parameters: {'max_depth': 20, 'min_samples_split': 4, 'min_samples_leaf': 1, 'max_features': None}. Best is trial 10 with value: -0.20072484781358813.\n",
            "[I 2025-05-16 04:57:06,817] Trial 12 finished with value: -0.20072484781358813 and parameters: {'max_depth': 20, 'min_samples_split': 4, 'min_samples_leaf': 1, 'max_features': None}. Best is trial 10 with value: -0.20072484781358813.\n",
            "[I 2025-05-16 04:57:57,324] Trial 13 finished with value: -0.20115616262371186 and parameters: {'max_depth': 17, 'min_samples_split': 4, 'min_samples_leaf': 2, 'max_features': None}. Best is trial 10 with value: -0.20072484781358813.\n",
            "[I 2025-05-16 04:58:54,484] Trial 14 finished with value: -0.20066517865082795 and parameters: {'max_depth': 20, 'min_samples_split': 2, 'min_samples_leaf': 1, 'max_features': None}. Best is trial 14 with value: -0.20066517865082795.\n",
            "[I 2025-05-16 04:59:40,145] Trial 15 finished with value: -0.20140051913716112 and parameters: {'max_depth': 13, 'min_samples_split': 2, 'min_samples_leaf': 1, 'max_features': None}. Best is trial 14 with value: -0.20066517865082795.\n",
            "[I 2025-05-16 04:59:59,313] Trial 16 finished with value: -0.20410304619140635 and parameters: {'max_depth': 5, 'min_samples_split': 3, 'min_samples_leaf': 2, 'max_features': None}. Best is trial 14 with value: -0.20066517865082795.\n",
            "[I 2025-05-16 05:00:53,124] Trial 17 finished with value: -0.20076075568641777 and parameters: {'max_depth': 17, 'min_samples_split': 2, 'min_samples_leaf': 1, 'max_features': None}. Best is trial 14 with value: -0.20066517865082795.\n",
            "[I 2025-05-16 05:01:34,466] Trial 18 finished with value: -0.20190298149392366 and parameters: {'max_depth': 12, 'min_samples_split': 5, 'min_samples_leaf': 2, 'max_features': None}. Best is trial 14 with value: -0.20066517865082795.\n",
            "[I 2025-05-16 05:01:54,373] Trial 19 finished with value: -0.2010521141566656 and parameters: {'max_depth': 18, 'min_samples_split': 3, 'min_samples_leaf': 1, 'max_features': 'log2'}. Best is trial 14 with value: -0.20066517865082795.\n",
            "[I 2025-05-16 05:02:40,491] Trial 20 finished with value: -0.20138765464200517 and parameters: {'max_depth': 15, 'min_samples_split': 5, 'min_samples_leaf': 2, 'max_features': None}. Best is trial 14 with value: -0.20066517865082795.\n",
            "[I 2025-05-16 05:03:35,748] Trial 21 finished with value: -0.20072484781358813 and parameters: {'max_depth': 20, 'min_samples_split': 4, 'min_samples_leaf': 1, 'max_features': None}. Best is trial 14 with value: -0.20066517865082795.\n",
            "[I 2025-05-16 05:04:32,453] Trial 22 finished with value: -0.20062949249469741 and parameters: {'max_depth': 20, 'min_samples_split': 3, 'min_samples_leaf': 1, 'max_features': None}. Best is trial 22 with value: -0.20062949249469741.\n",
            "[I 2025-05-16 05:05:29,326] Trial 23 finished with value: -0.20054254216777068 and parameters: {'max_depth': 19, 'min_samples_split': 3, 'min_samples_leaf': 1, 'max_features': None}. Best is trial 23 with value: -0.20054254216777068.\n",
            "[I 2025-05-16 05:06:25,686] Trial 24 finished with value: -0.20076075568641777 and parameters: {'max_depth': 17, 'min_samples_split': 2, 'min_samples_leaf': 1, 'max_features': None}. Best is trial 23 with value: -0.20054254216777068.\n",
            "[I 2025-05-16 05:07:15,911] Trial 25 finished with value: -0.20116917532942985 and parameters: {'max_depth': 18, 'min_samples_split': 3, 'min_samples_leaf': 2, 'max_features': None}. Best is trial 23 with value: -0.20054254216777068.\n",
            "[I 2025-05-16 05:08:12,480] Trial 26 finished with value: -0.20054254216777068 and parameters: {'max_depth': 19, 'min_samples_split': 3, 'min_samples_leaf': 1, 'max_features': None}. Best is trial 23 with value: -0.20054254216777068.\n",
            "[I 2025-05-16 05:08:59,127] Trial 27 finished with value: -0.20141531640043114 and parameters: {'max_depth': 16, 'min_samples_split': 6, 'min_samples_leaf': 2, 'max_features': None}. Best is trial 23 with value: -0.20054254216777068.\n",
            "[I 2025-05-16 05:09:09,621] Trial 28 finished with value: -0.20365196628306811 and parameters: {'max_depth': 7, 'min_samples_split': 3, 'min_samples_leaf': 1, 'max_features': 'sqrt'}. Best is trial 23 with value: -0.20054254216777068.\n",
            "[I 2025-05-16 05:09:26,592] Trial 29 finished with value: -0.20177374192242517 and parameters: {'max_depth': 19, 'min_samples_split': 7, 'min_samples_leaf': 1, 'max_features': 'log2'}. Best is trial 23 with value: -0.20054254216777068.\n"
          ]
        }
      ]
    }
  ]
}