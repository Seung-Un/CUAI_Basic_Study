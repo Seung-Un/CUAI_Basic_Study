{
 "cells": [
  {
   "cell_type": "markdown",
   "metadata": {},
   "source": [
    "# Import"
   ]
  },
  {
   "cell_type": "markdown",
   "metadata": {},
   "source": [
    "기업 성공확률 예측 모델"
   ]
  },
  {
   "cell_type": "code",
   "execution_count": 104,
   "metadata": {},
   "outputs": [
    {
     "name": "stdout",
     "output_type": "stream",
     "text": [
      "Requirement already satisfied: pytorch-tabnet in c:\\users\\starf\\anaconda3\\lib\\site-packages (4.1.0)\n",
      "Requirement already satisfied: numpy>=1.17 in c:\\users\\starf\\anaconda3\\lib\\site-packages (from pytorch-tabnet) (1.26.4)\n",
      "Requirement already satisfied: scikit_learn>0.21 in c:\\users\\starf\\anaconda3\\lib\\site-packages (from pytorch-tabnet) (1.2.2)\n",
      "Requirement already satisfied: scipy>1.4 in c:\\users\\starf\\anaconda3\\lib\\site-packages (from pytorch-tabnet) (1.11.4)\n",
      "Requirement already satisfied: torch>=1.3 in c:\\users\\starf\\anaconda3\\lib\\site-packages (from pytorch-tabnet) (2.7.0)\n",
      "Requirement already satisfied: tqdm>=4.36 in c:\\users\\starf\\anaconda3\\lib\\site-packages (from pytorch-tabnet) (4.65.0)\n",
      "Requirement already satisfied: joblib>=1.1.1 in c:\\users\\starf\\anaconda3\\lib\\site-packages (from scikit_learn>0.21->pytorch-tabnet) (1.2.0)\n",
      "Requirement already satisfied: threadpoolctl>=2.0.0 in c:\\users\\starf\\anaconda3\\lib\\site-packages (from scikit_learn>0.21->pytorch-tabnet) (2.2.0)\n",
      "Requirement already satisfied: filelock in c:\\users\\starf\\anaconda3\\lib\\site-packages (from torch>=1.3->pytorch-tabnet) (3.13.1)\n",
      "Requirement already satisfied: typing-extensions>=4.10.0 in c:\\users\\starf\\anaconda3\\lib\\site-packages (from torch>=1.3->pytorch-tabnet) (4.13.2)\n",
      "Requirement already satisfied: sympy>=1.13.3 in c:\\users\\starf\\anaconda3\\lib\\site-packages (from torch>=1.3->pytorch-tabnet) (1.14.0)\n",
      "Requirement already satisfied: networkx in c:\\users\\starf\\anaconda3\\lib\\site-packages (from torch>=1.3->pytorch-tabnet) (3.1)\n",
      "Requirement already satisfied: jinja2 in c:\\users\\starf\\anaconda3\\lib\\site-packages (from torch>=1.3->pytorch-tabnet) (3.1.3)\n",
      "Requirement already satisfied: fsspec in c:\\users\\starf\\anaconda3\\lib\\site-packages (from torch>=1.3->pytorch-tabnet) (2023.10.0)\n",
      "Requirement already satisfied: colorama in c:\\users\\starf\\appdata\\roaming\\python\\python311\\site-packages (from tqdm>=4.36->pytorch-tabnet) (0.4.6)\n",
      "Requirement already satisfied: mpmath<1.4,>=1.1.0 in c:\\users\\starf\\anaconda3\\lib\\site-packages (from sympy>=1.13.3->torch>=1.3->pytorch-tabnet) (1.3.0)\n",
      "Requirement already satisfied: MarkupSafe>=2.0 in c:\\users\\starf\\anaconda3\\lib\\site-packages (from jinja2->torch>=1.3->pytorch-tabnet) (2.1.3)\n",
      "Note: you may need to restart the kernel to use updated packages.\n"
     ]
    }
   ],
   "source": [
    "%pip install pytorch-tabnet\n",
    "\n",
    "import pandas as pd\n",
    "import numpy as np\n",
    "\n",
    "from sklearn.preprocessing import LabelEncoder\n",
    "from sklearn.model_selection import KFold\n",
    "\n",
    "import torch\n",
    "from pytorch_tabnet.pretraining import TabNetPretrainer\n",
    "from pytorch_tabnet.tab_model import TabNetRegressor"
   ]
  },
  {
   "cell_type": "markdown",
   "metadata": {},
   "source": [
    "# Data Load"
   ]
  },
  {
   "cell_type": "code",
   "execution_count": 105,
   "metadata": {},
   "outputs": [],
   "source": [
    "#원본 유지\n",
    "origin_train = pd.read_csv('train.csv')\n",
    "origin_test = pd.read_csv('test.csv')"
   ]
  },
  {
   "cell_type": "code",
   "execution_count": 106,
   "metadata": {},
   "outputs": [],
   "source": [
    "train = pd.read_csv('train.csv')\n",
    "test = pd.read_csv('test.csv')\n",
    "sample_submission = pd.read_csv('sample_submission.csv')"
   ]
  },
  {
   "cell_type": "markdown",
   "metadata": {},
   "source": [
    "# Data Preprocessing"
   ]
  },
  {
   "cell_type": "code",
   "execution_count": 107,
   "metadata": {},
   "outputs": [
    {
     "data": {
      "text/html": [
       "<div>\n",
       "<style scoped>\n",
       "    .dataframe tbody tr th:only-of-type {\n",
       "        vertical-align: middle;\n",
       "    }\n",
       "\n",
       "    .dataframe tbody tr th {\n",
       "        vertical-align: top;\n",
       "    }\n",
       "\n",
       "    .dataframe thead th {\n",
       "        text-align: right;\n",
       "    }\n",
       "</style>\n",
       "<table border=\"1\" class=\"dataframe\">\n",
       "  <thead>\n",
       "    <tr style=\"text-align: right;\">\n",
       "      <th></th>\n",
       "      <th>ID</th>\n",
       "      <th>설립연도</th>\n",
       "      <th>국가</th>\n",
       "      <th>분야</th>\n",
       "      <th>투자단계</th>\n",
       "      <th>직원 수</th>\n",
       "      <th>인수여부</th>\n",
       "      <th>상장여부</th>\n",
       "      <th>고객수(백만명)</th>\n",
       "      <th>총 투자금(억원)</th>\n",
       "      <th>연매출(억원)</th>\n",
       "      <th>SNS 팔로워 수(백만명)</th>\n",
       "      <th>기업가치(백억원)</th>\n",
       "      <th>성공확률</th>\n",
       "    </tr>\n",
       "  </thead>\n",
       "  <tbody>\n",
       "    <tr>\n",
       "      <th>0</th>\n",
       "      <td>TRAIN_0000</td>\n",
       "      <td>2009</td>\n",
       "      <td>CT005</td>\n",
       "      <td>이커머스</td>\n",
       "      <td>Series A</td>\n",
       "      <td>4126.0</td>\n",
       "      <td>No</td>\n",
       "      <td>No</td>\n",
       "      <td>56.0</td>\n",
       "      <td>3365.0</td>\n",
       "      <td>4764.0</td>\n",
       "      <td>4.71</td>\n",
       "      <td>NaN</td>\n",
       "      <td>0.3</td>\n",
       "    </tr>\n",
       "    <tr>\n",
       "      <th>1</th>\n",
       "      <td>TRAIN_0001</td>\n",
       "      <td>2023</td>\n",
       "      <td>CT006</td>\n",
       "      <td>핀테크</td>\n",
       "      <td>Seed</td>\n",
       "      <td>4167.0</td>\n",
       "      <td>Yes</td>\n",
       "      <td>No</td>\n",
       "      <td>80.0</td>\n",
       "      <td>4069.0</td>\n",
       "      <td>279.0</td>\n",
       "      <td>1.00</td>\n",
       "      <td>2500-3500</td>\n",
       "      <td>0.8</td>\n",
       "    </tr>\n",
       "    <tr>\n",
       "      <th>2</th>\n",
       "      <td>TRAIN_0002</td>\n",
       "      <td>2018</td>\n",
       "      <td>CT007</td>\n",
       "      <td>기술</td>\n",
       "      <td>Series A</td>\n",
       "      <td>3132.0</td>\n",
       "      <td>Yes</td>\n",
       "      <td>Yes</td>\n",
       "      <td>54.0</td>\n",
       "      <td>6453.0</td>\n",
       "      <td>12141.0</td>\n",
       "      <td>4.00</td>\n",
       "      <td>3500-4500</td>\n",
       "      <td>0.5</td>\n",
       "    </tr>\n",
       "    <tr>\n",
       "      <th>3</th>\n",
       "      <td>TRAIN_0003</td>\n",
       "      <td>2016</td>\n",
       "      <td>CT006</td>\n",
       "      <td>NaN</td>\n",
       "      <td>Seed</td>\n",
       "      <td>3245.0</td>\n",
       "      <td>Yes</td>\n",
       "      <td>Yes</td>\n",
       "      <td>NaN</td>\n",
       "      <td>665.0</td>\n",
       "      <td>10547.0</td>\n",
       "      <td>2.97</td>\n",
       "      <td>NaN</td>\n",
       "      <td>0.7</td>\n",
       "    </tr>\n",
       "    <tr>\n",
       "      <th>4</th>\n",
       "      <td>TRAIN_0004</td>\n",
       "      <td>2020</td>\n",
       "      <td>CT002</td>\n",
       "      <td>에듀테크</td>\n",
       "      <td>Seed</td>\n",
       "      <td>1969.0</td>\n",
       "      <td>No</td>\n",
       "      <td>Yes</td>\n",
       "      <td>94.0</td>\n",
       "      <td>829.0</td>\n",
       "      <td>9810.0</td>\n",
       "      <td>1.00</td>\n",
       "      <td>1500-2500</td>\n",
       "      <td>0.1</td>\n",
       "    </tr>\n",
       "  </tbody>\n",
       "</table>\n",
       "</div>"
      ],
      "text/plain": [
       "           ID  설립연도     국가    분야      투자단계    직원 수 인수여부 상장여부  고객수(백만명)  \\\n",
       "0  TRAIN_0000  2009  CT005  이커머스  Series A  4126.0   No   No      56.0   \n",
       "1  TRAIN_0001  2023  CT006   핀테크      Seed  4167.0  Yes   No      80.0   \n",
       "2  TRAIN_0002  2018  CT007    기술  Series A  3132.0  Yes  Yes      54.0   \n",
       "3  TRAIN_0003  2016  CT006   NaN      Seed  3245.0  Yes  Yes       NaN   \n",
       "4  TRAIN_0004  2020  CT002  에듀테크      Seed  1969.0   No  Yes      94.0   \n",
       "\n",
       "   총 투자금(억원)  연매출(억원)  SNS 팔로워 수(백만명)  기업가치(백억원)  성공확률  \n",
       "0     3365.0   4764.0            4.71        NaN   0.3  \n",
       "1     4069.0    279.0            1.00  2500-3500   0.8  \n",
       "2     6453.0  12141.0            4.00  3500-4500   0.5  \n",
       "3      665.0  10547.0            2.97        NaN   0.7  \n",
       "4      829.0   9810.0            1.00  1500-2500   0.1  "
      ]
     },
     "execution_count": 107,
     "metadata": {},
     "output_type": "execute_result"
    }
   ],
   "source": [
    "train.head()"
   ]
  },
  {
   "cell_type": "code",
   "execution_count": 108,
   "metadata": {},
   "outputs": [
    {
     "data": {
      "text/plain": [
       "Index(['ID', '설립연도', '국가', '분야', '투자단계', '직원 수', '인수여부', '상장여부', '고객수(백만명)',\n",
       "       '총 투자금(억원)', '연매출(억원)', 'SNS 팔로워 수(백만명)', '기업가치(백억원)', '성공확률'],\n",
       "      dtype='object')"
      ]
     },
     "execution_count": 108,
     "metadata": {},
     "output_type": "execute_result"
    }
   ],
   "source": [
    "train.columns"
   ]
  },
  {
   "cell_type": "code",
   "execution_count": 109,
   "metadata": {},
   "outputs": [
    {
     "name": "stdout",
     "output_type": "stream",
     "text": [
      "<class 'pandas.core.frame.DataFrame'>\n",
      "RangeIndex: 4376 entries, 0 to 4375\n",
      "Data columns (total 14 columns):\n",
      " #   Column          Non-Null Count  Dtype  \n",
      "---  ------          --------------  -----  \n",
      " 0   ID              4376 non-null   object \n",
      " 1   설립연도            4376 non-null   int64  \n",
      " 2   국가              4376 non-null   object \n",
      " 3   분야              3519 non-null   object \n",
      " 4   투자단계            4376 non-null   object \n",
      " 5   직원 수            4202 non-null   float64\n",
      " 6   인수여부            4376 non-null   object \n",
      " 7   상장여부            4376 non-null   object \n",
      " 8   고객수(백만명)        3056 non-null   float64\n",
      " 9   총 투자금(억원)       4376 non-null   float64\n",
      " 10  연매출(억원)         4376 non-null   float64\n",
      " 11  SNS 팔로워 수(백만명)  4376 non-null   float64\n",
      " 12  기업가치(백억원)       3156 non-null   object \n",
      " 13  성공확률            4376 non-null   float64\n",
      "dtypes: float64(6), int64(1), object(7)\n",
      "memory usage: 478.8+ KB\n"
     ]
    }
   ],
   "source": [
    "train.info()"
   ]
  },
  {
   "cell_type": "code",
   "execution_count": 110,
   "metadata": {},
   "outputs": [
    {
     "data": {
      "text/plain": [
       "ID                   0\n",
       "설립연도                 0\n",
       "국가                   0\n",
       "분야                 857\n",
       "투자단계                 0\n",
       "직원 수               174\n",
       "인수여부                 0\n",
       "상장여부                 0\n",
       "고객수(백만명)          1320\n",
       "총 투자금(억원)            0\n",
       "연매출(억원)              0\n",
       "SNS 팔로워 수(백만명)       0\n",
       "기업가치(백억원)         1220\n",
       "성공확률                 0\n",
       "dtype: int64"
      ]
     },
     "execution_count": 110,
     "metadata": {},
     "output_type": "execute_result"
    }
   ],
   "source": [
    "train.isna().sum()"
   ]
  },
  {
   "cell_type": "code",
   "execution_count": 111,
   "metadata": {},
   "outputs": [
    {
     "data": {
      "text/plain": [
       "ID                  0\n",
       "설립연도                0\n",
       "국가                  0\n",
       "분야                354\n",
       "투자단계                0\n",
       "직원 수               76\n",
       "인수여부                0\n",
       "상장여부                0\n",
       "고객수(백만명)          547\n",
       "총 투자금(억원)           0\n",
       "연매출(억원)             0\n",
       "SNS 팔로워 수(백만명)      0\n",
       "기업가치(백억원)         487\n",
       "dtype: int64"
      ]
     },
     "execution_count": 111,
     "metadata": {},
     "output_type": "execute_result"
    }
   ],
   "source": [
    "test.isna().sum()"
   ]
  },
  {
   "cell_type": "markdown",
   "metadata": {},
   "source": [
    "- 결측치 컬럼: 분야(object), 직원수, 고객수, 기업가치(object)"
   ]
  },
  {
   "cell_type": "code",
   "execution_count": 112,
   "metadata": {},
   "outputs": [],
   "source": [
    "#특성과 타겟 변수 분리\n",
    "train = train.drop(columns=['ID'], axis = 1)\n",
    "test = test.drop(columns=['ID'], axis = 1)"
   ]
  },
  {
   "cell_type": "code",
   "execution_count": 113,
   "metadata": {},
   "outputs": [
    {
     "name": "stdout",
     "output_type": "stream",
     "text": [
      "고객수(백만명)     30.16\n",
      "기업가치(백억원)    27.88\n",
      "분야           19.58\n",
      "직원 수          3.98\n",
      "dtype: float64\n"
     ]
    }
   ],
   "source": [
    "# 각 컬럼별 결측치 비율 계산\n",
    "missing_ratio = train.isnull().mean().sort_values(ascending=False)\n",
    "\n",
    "# 결측치 비율이 0보다 큰 컬럼만 추출\n",
    "missing_ratio = missing_ratio[missing_ratio > 0]\n",
    "\n",
    "# 보기 좋게 %로 표시\n",
    "missing_ratio_percent = (missing_ratio * 100).round(2)\n",
    "print(missing_ratio_percent)"
   ]
  },
  {
   "cell_type": "code",
   "execution_count": 114,
   "metadata": {},
   "outputs": [
    {
     "name": "stderr",
     "output_type": "stream",
     "text": [
      "C:\\Users\\starf\\anaconda3\\Lib\\site-packages\\seaborn\\_oldcore.py:1119: FutureWarning: use_inf_as_na option is deprecated and will be removed in a future version. Convert inf values to NaN before operating instead.\n",
      "  with pd.option_context('mode.use_inf_as_na', True):\n"
     ]
    },
    {
     "data": {
      "image/png": "[encoded data removed]",
      "text/plain": [
       "<Figure size 800x500 with 1 Axes>"
      ]
     },
     "metadata": {},
     "output_type": "display_data"
    }
   ],
   "source": [
    "import matplotlib.pyplot as plt\n",
    "import matplotlib.font_manager as fm\n",
    "import seaborn as sns\n",
    "\n",
    "# 한글 폰트 설정 (Windows의 기본 폰트인 'Malgun Gothic' 사용)\n",
    "plt.rcParams['font.family'] = 'Malgun Gothic'\n",
    "plt.rcParams['axes.unicode_minus'] = False  # 마이너스 기호 깨짐 방지\n",
    "\n",
    "# 예시: 한글 포함된 히스토그램\n",
    "plt.figure(figsize=(8, 5))\n",
    "sns.histplot(train['성공확률'], bins=20, kde=True)\n",
    "plt.title('성공확률 히스토그램')\n",
    "plt.xlabel('성공확률')\n",
    "plt.ylabel('기업 수')\n",
    "plt.grid(True)\n",
    "plt.show()"
   ]
  },
  {
   "cell_type": "code",
   "execution_count": 115,
   "metadata": {},
   "outputs": [],
   "source": [
    "# 설립연도 타입 변환 (int -> object)\n",
    "train['설립연도'] =train['설립연도'].astype('object')\n",
    "test['설립연도'] =test['설립연도'].astype('object')\n",
    "\n",
    "category_features = ['설립연도','국가','분야','투자단계','기업가치(백억원)'] #범주형\n",
    "numeric_features = ['직원 수','고객수(백만명)','총 투자금(억원)','연매출(억원)','SNS 팔로워 수(백만명)'] #수치형\n",
    "bool_features = ['인수여부','상장여부'] "
   ]
  },
  {
   "cell_type": "code",
   "execution_count": 116,
   "metadata": {},
   "outputs": [
    {
     "data": {
      "image/png": "[encoded data removed]",
      "text/plain": [
       "<Figure size 640x480 with 2 Axes>"
      ]
     },
     "metadata": {},
     "output_type": "display_data"
    }
   ],
   "source": [
    "import seaborn as sns\n",
    "import matplotlib.pyplot as plt\n",
    "\n",
    "# 수치형 칼럼만 선택\n",
    "numeric_cols = train.select_dtypes(include=['number'])\n",
    "\n",
    "# 히트맵\n",
    "sns.heatmap(numeric_cols.corr()[['성공확률']].sort_values(by='성공확률', ascending=False),\n",
    "            annot=True, cmap='coolwarm')\n",
    "plt.title(\"Correlation with Fraud\")\n",
    "plt.show()"
   ]
  },
  {
   "cell_type": "markdown",
   "metadata": {},
   "source": [
    "## ANOVA\n",
    "- 여러 그룹 간의 통계적으로 유의미한 차이를 검정하는 통계적 절차"
   ]
  },
  {
   "cell_type": "code",
   "execution_count": 117,
   "metadata": {},
   "outputs": [
    {
     "data": {
      "text/plain": [
       "Index(['설립연도', '국가', '분야', '투자단계', '직원 수', '인수여부', '상장여부', '고객수(백만명)',\n",
       "       '총 투자금(억원)', '연매출(억원)', 'SNS 팔로워 수(백만명)', '기업가치(백억원)', '성공확률'],\n",
       "      dtype='object')"
      ]
     },
     "execution_count": 117,
     "metadata": {},
     "output_type": "execute_result"
    }
   ],
   "source": [
    "train.columns"
   ]
  },
  {
   "cell_type": "markdown",
   "metadata": {},
   "source": [
    "### 가설 설정 (이진변수를 기준으로 연속형 값의 평균 차이를 비교할 것임)\n",
    "- 1. 인수여부, 상장여부가 참이면 성공확률은 증가할 것이다.\n",
    "    - 귀무가설: 인수 여부/상장여부에 따라 성공확률의 평균은 차이가 없다.\n",
    "    - 대립가설: 인수/상장된 기업이 인수/상장되지 않은 기업보다 평균 성공확률이 높다."
   ]
  },
  {
   "cell_type": "code",
   "execution_count": 118,
   "metadata": {},
   "outputs": [],
   "source": [
    "# 불리언 값을 0과 1로 변환 ('Yes' → 1, 'No' → 0 으로 변환)\n",
    "bool_map = {'Yes': 1, 'No': 0}\n",
    "\n",
    "for feature in bool_features:\n",
    "    train[feature] = train[feature].map(bool_map)\n",
    "    test[feature] = test[feature].map(bool_map)"
   ]
  },
  {
   "cell_type": "markdown",
   "metadata": {},
   "source": [
    "### 독립표본 t-검정"
   ]
  },
  {
   "cell_type": "code",
   "execution_count": 119,
   "metadata": {},
   "outputs": [
    {
     "name": "stdout",
     "output_type": "stream",
     "text": [
      "t-statistic: 2.079154933489617, p-value: 0.037661451984323246\n"
     ]
    }
   ],
   "source": [
    "from scipy.stats import ttest_ind\n",
    "\n",
    "# 상장 여부에 따라 그룹 나누기\n",
    "group_listed = train[train['상장여부'] == 1]['성공확률']\n",
    "group_not_listed = train[train['상장여부'] == 0]['성공확률']\n",
    "\n",
    "# t-test 수행\n",
    "t_stat, p_value = ttest_ind(group_listed, group_not_listed, equal_var=False)\n",
    "\n",
    "print(f\"t-statistic: {t_stat}, p-value: {p_value}\")"
   ]
  },
  {
   "cell_type": "code",
   "execution_count": 120,
   "metadata": {},
   "outputs": [
    {
     "name": "stdout",
     "output_type": "stream",
     "text": [
      "t-statistic: -0.797801799825947, p-value: 0.4250290406586925\n"
     ]
    }
   ],
   "source": [
    "# 인수 여부에 따라 그룹 나누기\n",
    "group_listed = train[train['인수여부'] == 1]['성공확률']\n",
    "group_not_listed = train[train['인수여부'] == 0]['성공확률']\n",
    "\n",
    "# t-test 수행\n",
    "t_stat, p_value = ttest_ind(group_listed, group_not_listed, equal_var=False)\n",
    "\n",
    "print(f\"t-statistic: {t_stat}, p-value: {p_value}\")"
   ]
  },
  {
   "cell_type": "markdown",
   "metadata": {},
   "source": [
    "- 상장 여부에 따른 성공확률의 평균 차이가 통계적으로 유의함 (0.05 이하)"
   ]
  },
  {
   "cell_type": "markdown",
   "metadata": {},
   "source": [
    "### 이원분산분석 (인수여부+상장여부)"
   ]
  },
  {
   "cell_type": "code",
   "execution_count": 121,
   "metadata": {},
   "outputs": [
    {
     "name": "stdout",
     "output_type": "stream",
     "text": [
      "                     sum_sq      df         F    PR(>F)\n",
      "C(인수여부)            0.033116     1.0  0.567174  0.451425\n",
      "C(상장여부)            0.248108     1.0  4.249308  0.039325\n",
      "C(인수여부):C(상장여부)    0.021626     1.0  0.370382  0.542828\n",
      "Residual         255.271702  4372.0       NaN       NaN\n"
     ]
    }
   ],
   "source": [
    "import statsmodels.api as sm\n",
    "from statsmodels.formula.api import ols\n",
    "\n",
    "# 두 범주형 변수의 효과를 동시에 분석\n",
    "model = ols('성공확률 ~ C(인수여부) + C(상장여부) + C(인수여부):C(상장여부)', data=train).fit()\n",
    "anova_table = sm.stats.anova_lm(model, typ=2)\n",
    "\n",
    "print(anova_table)"
   ]
  },
  {
   "cell_type": "markdown",
   "metadata": {},
   "source": [
    "- 상장여부만 성공확률에 유의한 긍정적 영향을 주는 반면,\n",
    "- 인수여부 자체나 인수+상장의 상호작용은 유의하지 않은 것으로 판명"
   ]
  },
  {
   "cell_type": "code",
   "execution_count": 122,
   "metadata": {},
   "outputs": [
    {
     "name": "stdout",
     "output_type": "stream",
     "text": [
      "상장여부\n",
      "0    0.530004\n",
      "1    0.545196\n",
      "Name: 성공확률, dtype: float64\n"
     ]
    }
   ],
   "source": [
    "# 상장 여부에 따른 성공확률 평균 비교\n",
    "mean_success_by_listing = train.groupby('상장여부')['성공확률'].mean()\n",
    "print(mean_success_by_listing)"
   ]
  },
  {
   "cell_type": "markdown",
   "metadata": {},
   "source": [
    "- 그러나 실제 차이 크기는 작음. 데이터 수가 적어서 그룹 간 평균 차이가 작아도 유의할 수 있음"
   ]
  },
  {
   "cell_type": "markdown",
   "metadata": {},
   "source": [
    "### 범주형 변수 시각화"
   ]
  },
  {
   "cell_type": "code",
   "execution_count": 123,
   "metadata": {},
   "outputs": [
    {
     "data": {
      "image/png": "[encoded data removed]",
      "text/plain": [
       "<Figure size 1200x600 with 1 Axes>"
      ]
     },
     "metadata": {},
     "output_type": "display_data"
    }
   ],
   "source": [
    "import seaborn as sns\n",
    "import matplotlib.pyplot as plt\n",
    "\n",
    "plt.figure(figsize=(12, 6))\n",
    "sns.countplot(data=train, x='분야', order=train['분야'].value_counts().index)\n",
    "\n",
    "plt.title('분야별 기업 수')\n",
    "plt.xlabel('분야')\n",
    "plt.ylabel('기업 수')\n",
    "plt.xticks(rotation=45)\n",
    "plt.tight_layout()\n",
    "plt.show()"
   ]
  },
  {
   "cell_type": "code",
   "execution_count": 124,
   "metadata": {},
   "outputs": [
    {
     "data": {
      "image/png": "[encoded data removed]",
      "text/plain": [
       "<Figure size 1200x600 with 1 Axes>"
      ]
     },
     "metadata": {},
     "output_type": "display_data"
    }
   ],
   "source": [
    "import seaborn as sns\n",
    "import matplotlib.pyplot as plt\n",
    "\n",
    "plt.figure(figsize=(12, 6))\n",
    "sns.countplot(data=train, x='설립연도', order=train['설립연도'].value_counts().index)\n",
    "\n",
    "plt.title('설립연도별 기업 수')\n",
    "plt.xlabel('설립연도')\n",
    "plt.ylabel('기업 수')\n",
    "plt.xticks(rotation=45)\n",
    "plt.tight_layout()\n",
    "plt.show()"
   ]
  },
  {
   "cell_type": "code",
   "execution_count": 125,
   "metadata": {},
   "outputs": [
    {
     "data": {
      "image/png": "[encoded data removed]",
      "text/plain": [
       "<Figure size 1200x600 with 1 Axes>"
      ]
     },
     "metadata": {},
     "output_type": "display_data"
    }
   ],
   "source": [
    "plt.figure(figsize=(12, 6))\n",
    "sns.countplot(data=train, x='설립연도')\n",
    "\n",
    "plt.title('설립연도별 기업 수')\n",
    "plt.xlabel('설립연도')\n",
    "plt.ylabel('기업 수')\n",
    "plt.xticks(rotation=45)\n",
    "plt.tight_layout()\n",
    "plt.show()"
   ]
  },
  {
   "cell_type": "code",
   "execution_count": 126,
   "metadata": {},
   "outputs": [
    {
     "data": {
      "image/png": "[encoded data removed]",
      "text/plain": [
       "<Figure size 1200x600 with 1 Axes>"
      ]
     },
     "metadata": {},
     "output_type": "display_data"
    }
   ],
   "source": [
    "plt.figure(figsize=(12, 6))\n",
    "sns.countplot(data=train, x='국가', order=train['국가'].value_counts().index)\n",
    "\n",
    "plt.title('국가별 기업 수')\n",
    "plt.xlabel('국가')\n",
    "plt.ylabel('기업 수')\n",
    "plt.xticks(rotation=45)\n",
    "plt.tight_layout()\n",
    "plt.show()"
   ]
  },
  {
   "cell_type": "code",
   "execution_count": 127,
   "metadata": {},
   "outputs": [
    {
     "data": {
      "image/png": "[encoded data removed]",
      "text/plain": [
       "<Figure size 1200x600 with 1 Axes>"
      ]
     },
     "metadata": {},
     "output_type": "display_data"
    }
   ],
   "source": [
    "plt.figure(figsize=(12, 6))\n",
    "sns.countplot(data=train, x='투자단계', order=train['투자단계'].value_counts().index)\n",
    "\n",
    "plt.title('투자단계별 기업 수')\n",
    "plt.xlabel('투자단계')\n",
    "plt.ylabel('기업 수')\n",
    "plt.xticks(rotation=45)\n",
    "plt.tight_layout()\n",
    "plt.show()"
   ]
  },
  {
   "cell_type": "markdown",
   "metadata": {},
   "source": [
    "- Seed: 아이디어와 초기 제품을 위한 자금.\n",
    "\n",
    "- Series A: 제품과 시장 검증 후, 성장 확대를 위한 자금.\n",
    "\n",
    "- Series B: 성장을 지속적으로 확장하고, 더 큰 시장을 목표로 하는 자금.\n",
    "\n",
    "- IPO: 주식 공개를 통해 자금을 조달하고, 기업을 공개적으로 운영하는 단계."
   ]
  },
  {
   "cell_type": "markdown",
   "metadata": {},
   "source": [
    "### 기업가치 처리"
   ]
  },
  {
   "cell_type": "markdown",
   "metadata": {},
   "source": [
    "- 기업 가치 오브젝트 -> 수치형으로 변환"
   ]
  },
  {
   "cell_type": "code",
   "execution_count": 128,
   "metadata": {},
   "outputs": [],
   "source": [
    "import pandas as pd\n",
    "\n",
    "def convert_range_to_mean(value):\n",
    "    if pd.isna(value):\n",
    "        return None\n",
    "    if '-' in value:\n",
    "        # '2500-3500' → 평균 계산\n",
    "        start, end = value.split('-')\n",
    "        return (int(start) + int(end)) / 2\n",
    "    else:\n",
    "        # 숫자형 문자열이거나 'Missing' 처리된 값\n",
    "        try:\n",
    "            return float(value)\n",
    "        except:\n",
    "            return None\n",
    "\n",
    "# 적용\n",
    "train['기업가치(백억원)_수치형'] = train['기업가치(백억원)'].apply(convert_range_to_mean)"
   ]
  },
  {
   "cell_type": "code",
   "execution_count": 129,
   "metadata": {},
   "outputs": [
    {
     "name": "stdout",
     "output_type": "stream",
     "text": [
      "float64\n"
     ]
    }
   ],
   "source": [
    "print(train['기업가치(백억원)_수치형'].dtype)  # float64로 변환되어야 함"
   ]
  },
  {
   "cell_type": "code",
   "execution_count": 130,
   "metadata": {},
   "outputs": [
    {
     "data": {
      "text/html": [
       "<div>\n",
       "<style scoped>\n",
       "    .dataframe tbody tr th:only-of-type {\n",
       "        vertical-align: middle;\n",
       "    }\n",
       "\n",
       "    .dataframe tbody tr th {\n",
       "        vertical-align: top;\n",
       "    }\n",
       "\n",
       "    .dataframe thead th {\n",
       "        text-align: right;\n",
       "    }\n",
       "</style>\n",
       "<table border=\"1\" class=\"dataframe\">\n",
       "  <thead>\n",
       "    <tr style=\"text-align: right;\">\n",
       "      <th></th>\n",
       "      <th>설립연도</th>\n",
       "      <th>국가</th>\n",
       "      <th>분야</th>\n",
       "      <th>투자단계</th>\n",
       "      <th>직원 수</th>\n",
       "      <th>인수여부</th>\n",
       "      <th>상장여부</th>\n",
       "      <th>고객수(백만명)</th>\n",
       "      <th>총 투자금(억원)</th>\n",
       "      <th>연매출(억원)</th>\n",
       "      <th>SNS 팔로워 수(백만명)</th>\n",
       "      <th>기업가치(백억원)</th>\n",
       "      <th>성공확률</th>\n",
       "      <th>기업가치(백억원)_수치형</th>\n",
       "    </tr>\n",
       "  </thead>\n",
       "  <tbody>\n",
       "    <tr>\n",
       "      <th>0</th>\n",
       "      <td>2009</td>\n",
       "      <td>CT005</td>\n",
       "      <td>이커머스</td>\n",
       "      <td>Series A</td>\n",
       "      <td>4126.0</td>\n",
       "      <td>0</td>\n",
       "      <td>0</td>\n",
       "      <td>56.0</td>\n",
       "      <td>3365.0</td>\n",
       "      <td>4764.0</td>\n",
       "      <td>4.71</td>\n",
       "      <td>NaN</td>\n",
       "      <td>0.3</td>\n",
       "      <td>NaN</td>\n",
       "    </tr>\n",
       "    <tr>\n",
       "      <th>1</th>\n",
       "      <td>2023</td>\n",
       "      <td>CT006</td>\n",
       "      <td>핀테크</td>\n",
       "      <td>Seed</td>\n",
       "      <td>4167.0</td>\n",
       "      <td>1</td>\n",
       "      <td>0</td>\n",
       "      <td>80.0</td>\n",
       "      <td>4069.0</td>\n",
       "      <td>279.0</td>\n",
       "      <td>1.00</td>\n",
       "      <td>2500-3500</td>\n",
       "      <td>0.8</td>\n",
       "      <td>3000.0</td>\n",
       "    </tr>\n",
       "    <tr>\n",
       "      <th>2</th>\n",
       "      <td>2018</td>\n",
       "      <td>CT007</td>\n",
       "      <td>기술</td>\n",
       "      <td>Series A</td>\n",
       "      <td>3132.0</td>\n",
       "      <td>1</td>\n",
       "      <td>1</td>\n",
       "      <td>54.0</td>\n",
       "      <td>6453.0</td>\n",
       "      <td>12141.0</td>\n",
       "      <td>4.00</td>\n",
       "      <td>3500-4500</td>\n",
       "      <td>0.5</td>\n",
       "      <td>4000.0</td>\n",
       "    </tr>\n",
       "    <tr>\n",
       "      <th>3</th>\n",
       "      <td>2016</td>\n",
       "      <td>CT006</td>\n",
       "      <td>NaN</td>\n",
       "      <td>Seed</td>\n",
       "      <td>3245.0</td>\n",
       "      <td>1</td>\n",
       "      <td>1</td>\n",
       "      <td>NaN</td>\n",
       "      <td>665.0</td>\n",
       "      <td>10547.0</td>\n",
       "      <td>2.97</td>\n",
       "      <td>NaN</td>\n",
       "      <td>0.7</td>\n",
       "      <td>NaN</td>\n",
       "    </tr>\n",
       "    <tr>\n",
       "      <th>4</th>\n",
       "      <td>2020</td>\n",
       "      <td>CT002</td>\n",
       "      <td>에듀테크</td>\n",
       "      <td>Seed</td>\n",
       "      <td>1969.0</td>\n",
       "      <td>0</td>\n",
       "      <td>1</td>\n",
       "      <td>94.0</td>\n",
       "      <td>829.0</td>\n",
       "      <td>9810.0</td>\n",
       "      <td>1.00</td>\n",
       "      <td>1500-2500</td>\n",
       "      <td>0.1</td>\n",
       "      <td>2000.0</td>\n",
       "    </tr>\n",
       "  </tbody>\n",
       "</table>\n",
       "</div>"
      ],
      "text/plain": [
       "   설립연도     국가    분야      투자단계    직원 수  인수여부  상장여부  고객수(백만명)  총 투자금(억원)  \\\n",
       "0  2009  CT005  이커머스  Series A  4126.0     0     0      56.0     3365.0   \n",
       "1  2023  CT006   핀테크      Seed  4167.0     1     0      80.0     4069.0   \n",
       "2  2018  CT007    기술  Series A  3132.0     1     1      54.0     6453.0   \n",
       "3  2016  CT006   NaN      Seed  3245.0     1     1       NaN      665.0   \n",
       "4  2020  CT002  에듀테크      Seed  1969.0     0     1      94.0      829.0   \n",
       "\n",
       "   연매출(억원)  SNS 팔로워 수(백만명)  기업가치(백억원)  성공확률  기업가치(백억원)_수치형  \n",
       "0   4764.0            4.71        NaN   0.3            NaN  \n",
       "1    279.0            1.00  2500-3500   0.8         3000.0  \n",
       "2  12141.0            4.00  3500-4500   0.5         4000.0  \n",
       "3  10547.0            2.97        NaN   0.7            NaN  \n",
       "4   9810.0            1.00  1500-2500   0.1         2000.0  "
      ]
     },
     "execution_count": 130,
     "metadata": {},
     "output_type": "execute_result"
    }
   ],
   "source": [
    "train.head()"
   ]
  },
  {
   "cell_type": "code",
   "execution_count": 131,
   "metadata": {},
   "outputs": [
    {
     "name": "stdout",
     "output_type": "stream",
     "text": [
      "               기업가치(백억원)_수치형      성공확률\n",
      "기업가치(백억원)_수치형       1.000000  0.009127\n",
      "성공확률                0.009127  1.000000\n"
     ]
    }
   ],
   "source": [
    "# 상관계수 계산 (피어슨 상관계수)\n",
    "correlation = train[['기업가치(백억원)_수치형', '성공확률']].corr(method='pearson')\n",
    "print(correlation)"
   ]
  },
  {
   "cell_type": "code",
   "execution_count": 132,
   "metadata": {},
   "outputs": [
    {
     "name": "stdout",
     "output_type": "stream",
     "text": [
      "<class 'pandas.core.frame.DataFrame'>\n",
      "RangeIndex: 4376 entries, 0 to 4375\n",
      "Data columns (total 14 columns):\n",
      " #   Column          Non-Null Count  Dtype  \n",
      "---  ------          --------------  -----  \n",
      " 0   설립연도            4376 non-null   object \n",
      " 1   국가              4376 non-null   object \n",
      " 2   분야              3519 non-null   object \n",
      " 3   투자단계            4376 non-null   object \n",
      " 4   직원 수            4202 non-null   float64\n",
      " 5   인수여부            4376 non-null   int64  \n",
      " 6   상장여부            4376 non-null   int64  \n",
      " 7   고객수(백만명)        3056 non-null   float64\n",
      " 8   총 투자금(억원)       4376 non-null   float64\n",
      " 9   연매출(억원)         4376 non-null   float64\n",
      " 10  SNS 팔로워 수(백만명)  4376 non-null   float64\n",
      " 11  기업가치(백억원)       3156 non-null   object \n",
      " 12  성공확률            4376 non-null   float64\n",
      " 13  기업가치(백억원)_수치형   2563 non-null   float64\n",
      "dtypes: float64(7), int64(2), object(5)\n",
      "memory usage: 478.8+ KB\n"
     ]
    }
   ],
   "source": [
    "train.info()"
   ]
  },
  {
   "cell_type": "markdown",
   "metadata": {},
   "source": [
    "# 타입 변환 (int -> object)\n",
    "train['인수여부'] =train['인수여부'].astype('object')\n",
    "test['상장여부'] =test['상장여부'].astype('object')"
   ]
  },
  {
   "cell_type": "code",
   "execution_count": 133,
   "metadata": {},
   "outputs": [
    {
     "name": "stdout",
     "output_type": "stream",
     "text": [
      "          직원 수      성공확률\n",
      "직원 수  1.000000 -0.011831\n",
      "성공확률 -0.011831  1.000000\n"
     ]
    }
   ],
   "source": [
    "correlation = train[['직원 수', '성공확률']].corr(method='pearson')\n",
    "print(correlation)"
   ]
  },
  {
   "cell_type": "code",
   "execution_count": 134,
   "metadata": {},
   "outputs": [
    {
     "name": "stdout",
     "output_type": "stream",
     "text": [
      "          고객수(백만명)      성공확률\n",
      "고객수(백만명)  1.000000 -0.014746\n",
      "성공확률     -0.014746  1.000000\n"
     ]
    }
   ],
   "source": [
    "correlation = train[['고객수(백만명)', '성공확률']].corr(method='pearson')\n",
    "print(correlation)"
   ]
  },
  {
   "cell_type": "code",
   "execution_count": 135,
   "metadata": {},
   "outputs": [
    {
     "name": "stdout",
     "output_type": "stream",
     "text": [
      "           총 투자금(억원)      성공확률\n",
      "총 투자금(억원)   1.000000 -0.014939\n",
      "성공확률       -0.014939  1.000000\n"
     ]
    }
   ],
   "source": [
    "correlation = train[['총 투자금(억원)', '성공확률']].corr(method='pearson')\n",
    "print(correlation)"
   ]
  },
  {
   "cell_type": "code",
   "execution_count": 136,
   "metadata": {},
   "outputs": [
    {
     "name": "stdout",
     "output_type": "stream",
     "text": [
      "          연매출(억원)      성공확률\n",
      "연매출(억원)  1.000000 -0.018994\n",
      "성공확률    -0.018994  1.000000\n"
     ]
    }
   ],
   "source": [
    "correlation = train[['연매출(억원)', '성공확률']].corr(method='pearson')\n",
    "print(correlation)"
   ]
  },
  {
   "cell_type": "code",
   "execution_count": 137,
   "metadata": {},
   "outputs": [
    {
     "name": "stdout",
     "output_type": "stream",
     "text": [
      "                SNS 팔로워 수(백만명)      성공확률\n",
      "SNS 팔로워 수(백만명)        1.000000  0.017927\n",
      "성공확률                  0.017927  1.000000\n"
     ]
    }
   ],
   "source": [
    "correlation = train[['SNS 팔로워 수(백만명)', '성공확률']].corr(method='pearson')\n",
    "print(correlation)"
   ]
  },
  {
   "cell_type": "markdown",
   "metadata": {},
   "source": [
    "- 모두 상관계수가 1에 가깝지 않음 (강한 양의 상관관계를 보이지는 않음)\n",
    "- 비선형회귀 혹은 다중회귀가 필요해보임"
   ]
  },
  {
   "cell_type": "code",
   "execution_count": 138,
   "metadata": {},
   "outputs": [
    {
     "name": "stdout",
     "output_type": "stream",
     "text": [
      "                            OLS Regression Results                            \n",
      "==============================================================================\n",
      "Dep. Variable:                   성공확률   R-squared:                       0.000\n",
      "Model:                            OLS   Adj. R-squared:                 -0.000\n",
      "Method:                 Least Squares   F-statistic:                    0.2134\n",
      "Date:                Wed, 14 May 2025   Prob (F-statistic):              0.644\n",
      "Time:                        13:39:44   Log-Likelihood:                 10.864\n",
      "No. Observations:                2563   AIC:                            -17.73\n",
      "Df Residuals:                    2561   BIC:                            -6.031\n",
      "Df Model:                           1                                         \n",
      "Covariance Type:            nonrobust                                         \n",
      "=================================================================================\n",
      "                    coef    std err          t      P>|t|      [0.025      0.975]\n",
      "---------------------------------------------------------------------------------\n",
      "const             0.5243      0.015     35.159      0.000       0.495       0.554\n",
      "기업가치(백억원)_수치형  1.814e-06   3.93e-06      0.462      0.644   -5.89e-06    9.51e-06\n",
      "==============================================================================\n",
      "Omnibus:                      365.207   Durbin-Watson:                   1.974\n",
      "Prob(Omnibus):                  0.000   Jarque-Bera (JB):              103.976\n",
      "Skew:                          -0.200   Prob(JB):                     2.64e-23\n",
      "Kurtosis:                       2.098   Cond. No.                     1.19e+04\n",
      "==============================================================================\n",
      "\n",
      "Notes:\n",
      "[1] Standard Errors assume that the covariance matrix of the errors is correctly specified.\n",
      "[2] The condition number is large, 1.19e+04. This might indicate that there are\n",
      "strong multicollinearity or other numerical problems.\n"
     ]
    }
   ],
   "source": [
    "import statsmodels.api as sm\n",
    "\n",
    "# 데이터 준비\n",
    "X = train['기업가치(백억원)_수치형']\n",
    "y = train['성공확률']\n",
    "\n",
    "# 결측치 제거\n",
    "data = pd.concat([X, y], axis=1).dropna()\n",
    "X = data['기업가치(백억원)_수치형']\n",
    "y = data['성공확률']\n",
    "\n",
    "# 상수항 추가 (절편)\n",
    "X = sm.add_constant(X)\n",
    "\n",
    "# 회귀 모델 적합\n",
    "model = sm.OLS(y, X).fit()\n",
    "\n",
    "# 결과 출력\n",
    "print(model.summary())"
   ]
  },
  {
   "cell_type": "code",
   "execution_count": 139,
   "metadata": {},
   "outputs": [
    {
     "data": {
      "text/html": [
       "<div>\n",
       "<style scoped>\n",
       "    .dataframe tbody tr th:only-of-type {\n",
       "        vertical-align: middle;\n",
       "    }\n",
       "\n",
       "    .dataframe tbody tr th {\n",
       "        vertical-align: top;\n",
       "    }\n",
       "\n",
       "    .dataframe thead th {\n",
       "        text-align: right;\n",
       "    }\n",
       "</style>\n",
       "<table border=\"1\" class=\"dataframe\">\n",
       "  <thead>\n",
       "    <tr style=\"text-align: right;\">\n",
       "      <th></th>\n",
       "      <th>설립연도</th>\n",
       "      <th>국가</th>\n",
       "      <th>분야</th>\n",
       "      <th>투자단계</th>\n",
       "      <th>직원 수</th>\n",
       "      <th>인수여부</th>\n",
       "      <th>상장여부</th>\n",
       "      <th>고객수(백만명)</th>\n",
       "      <th>총 투자금(억원)</th>\n",
       "      <th>연매출(억원)</th>\n",
       "      <th>SNS 팔로워 수(백만명)</th>\n",
       "      <th>기업가치(백억원)</th>\n",
       "      <th>성공확률</th>\n",
       "      <th>기업가치(백억원)_수치형</th>\n",
       "    </tr>\n",
       "  </thead>\n",
       "  <tbody>\n",
       "    <tr>\n",
       "      <th>8</th>\n",
       "      <td>2005</td>\n",
       "      <td>CT002</td>\n",
       "      <td>NaN</td>\n",
       "      <td>Series B</td>\n",
       "      <td>NaN</td>\n",
       "      <td>0</td>\n",
       "      <td>0</td>\n",
       "      <td>NaN</td>\n",
       "      <td>2722.0</td>\n",
       "      <td>2568.0</td>\n",
       "      <td>4.94</td>\n",
       "      <td>NaN</td>\n",
       "      <td>0.9</td>\n",
       "      <td>NaN</td>\n",
       "    </tr>\n",
       "    <tr>\n",
       "      <th>12</th>\n",
       "      <td>2020</td>\n",
       "      <td>CT005</td>\n",
       "      <td>기술</td>\n",
       "      <td>Seed</td>\n",
       "      <td>528.0</td>\n",
       "      <td>1</td>\n",
       "      <td>0</td>\n",
       "      <td>92.0</td>\n",
       "      <td>239.0</td>\n",
       "      <td>2954.0</td>\n",
       "      <td>3.14</td>\n",
       "      <td>NaN</td>\n",
       "      <td>0.9</td>\n",
       "      <td>NaN</td>\n",
       "    </tr>\n",
       "    <tr>\n",
       "      <th>14</th>\n",
       "      <td>2009</td>\n",
       "      <td>CT002</td>\n",
       "      <td>헬스케어</td>\n",
       "      <td>Seed</td>\n",
       "      <td>937.0</td>\n",
       "      <td>1</td>\n",
       "      <td>1</td>\n",
       "      <td>19.0</td>\n",
       "      <td>5522.0</td>\n",
       "      <td>6509.0</td>\n",
       "      <td>4.00</td>\n",
       "      <td>3500-4500</td>\n",
       "      <td>0.9</td>\n",
       "      <td>4000.0</td>\n",
       "    </tr>\n",
       "    <tr>\n",
       "      <th>22</th>\n",
       "      <td>2004</td>\n",
       "      <td>CT007</td>\n",
       "      <td>NaN</td>\n",
       "      <td>Series A</td>\n",
       "      <td>4957.0</td>\n",
       "      <td>1</td>\n",
       "      <td>1</td>\n",
       "      <td>NaN</td>\n",
       "      <td>96.0</td>\n",
       "      <td>7304.0</td>\n",
       "      <td>4.08</td>\n",
       "      <td>NaN</td>\n",
       "      <td>0.9</td>\n",
       "      <td>NaN</td>\n",
       "    </tr>\n",
       "    <tr>\n",
       "      <th>26</th>\n",
       "      <td>2018</td>\n",
       "      <td>CT003</td>\n",
       "      <td>게임</td>\n",
       "      <td>IPO</td>\n",
       "      <td>389.0</td>\n",
       "      <td>0</td>\n",
       "      <td>1</td>\n",
       "      <td>87.0</td>\n",
       "      <td>77.0</td>\n",
       "      <td>129.0</td>\n",
       "      <td>4.00</td>\n",
       "      <td>2500-3500</td>\n",
       "      <td>0.9</td>\n",
       "      <td>3000.0</td>\n",
       "    </tr>\n",
       "    <tr>\n",
       "      <th>...</th>\n",
       "      <td>...</td>\n",
       "      <td>...</td>\n",
       "      <td>...</td>\n",
       "      <td>...</td>\n",
       "      <td>...</td>\n",
       "      <td>...</td>\n",
       "      <td>...</td>\n",
       "      <td>...</td>\n",
       "      <td>...</td>\n",
       "      <td>...</td>\n",
       "      <td>...</td>\n",
       "      <td>...</td>\n",
       "      <td>...</td>\n",
       "      <td>...</td>\n",
       "    </tr>\n",
       "    <tr>\n",
       "      <th>4319</th>\n",
       "      <td>2021</td>\n",
       "      <td>CT010</td>\n",
       "      <td>NaN</td>\n",
       "      <td>Seed</td>\n",
       "      <td>4473.0</td>\n",
       "      <td>0</td>\n",
       "      <td>1</td>\n",
       "      <td>NaN</td>\n",
       "      <td>1577.0</td>\n",
       "      <td>4167.0</td>\n",
       "      <td>2.78</td>\n",
       "      <td>NaN</td>\n",
       "      <td>0.9</td>\n",
       "      <td>NaN</td>\n",
       "    </tr>\n",
       "    <tr>\n",
       "      <th>4334</th>\n",
       "      <td>2020</td>\n",
       "      <td>CT009</td>\n",
       "      <td>게임</td>\n",
       "      <td>Seed</td>\n",
       "      <td>4449.0</td>\n",
       "      <td>0</td>\n",
       "      <td>1</td>\n",
       "      <td>64.0</td>\n",
       "      <td>196.0</td>\n",
       "      <td>5098.0</td>\n",
       "      <td>4.00</td>\n",
       "      <td>1500-2500</td>\n",
       "      <td>0.9</td>\n",
       "      <td>2000.0</td>\n",
       "    </tr>\n",
       "    <tr>\n",
       "      <th>4342</th>\n",
       "      <td>2006</td>\n",
       "      <td>CT007</td>\n",
       "      <td>헬스케어</td>\n",
       "      <td>Series A</td>\n",
       "      <td>3695.0</td>\n",
       "      <td>1</td>\n",
       "      <td>1</td>\n",
       "      <td>45.0</td>\n",
       "      <td>1912.0</td>\n",
       "      <td>1362.0</td>\n",
       "      <td>2.95</td>\n",
       "      <td>NaN</td>\n",
       "      <td>0.9</td>\n",
       "      <td>NaN</td>\n",
       "    </tr>\n",
       "    <tr>\n",
       "      <th>4370</th>\n",
       "      <td>2005</td>\n",
       "      <td>CT006</td>\n",
       "      <td>NaN</td>\n",
       "      <td>Series A</td>\n",
       "      <td>237.0</td>\n",
       "      <td>0</td>\n",
       "      <td>0</td>\n",
       "      <td>NaN</td>\n",
       "      <td>6252.0</td>\n",
       "      <td>759.0</td>\n",
       "      <td>4.31</td>\n",
       "      <td>NaN</td>\n",
       "      <td>0.9</td>\n",
       "      <td>NaN</td>\n",
       "    </tr>\n",
       "    <tr>\n",
       "      <th>4374</th>\n",
       "      <td>2001</td>\n",
       "      <td>CT007</td>\n",
       "      <td>AI</td>\n",
       "      <td>IPO</td>\n",
       "      <td>1438.0</td>\n",
       "      <td>0</td>\n",
       "      <td>0</td>\n",
       "      <td>53.0</td>\n",
       "      <td>2395.0</td>\n",
       "      <td>3755.0</td>\n",
       "      <td>5.00</td>\n",
       "      <td>4500-6000</td>\n",
       "      <td>0.9</td>\n",
       "      <td>5250.0</td>\n",
       "    </tr>\n",
       "  </tbody>\n",
       "</table>\n",
       "<p>475 rows × 14 columns</p>\n",
       "</div>"
      ],
      "text/plain": [
       "      설립연도     국가    분야      투자단계    직원 수  인수여부  상장여부  고객수(백만명)  총 투자금(억원)  \\\n",
       "8     2005  CT002   NaN  Series B     NaN     0     0       NaN     2722.0   \n",
       "12    2020  CT005    기술      Seed   528.0     1     0      92.0      239.0   \n",
       "14    2009  CT002  헬스케어      Seed   937.0     1     1      19.0     5522.0   \n",
       "22    2004  CT007   NaN  Series A  4957.0     1     1       NaN       96.0   \n",
       "26    2018  CT003    게임       IPO   389.0     0     1      87.0       77.0   \n",
       "...    ...    ...   ...       ...     ...   ...   ...       ...        ...   \n",
       "4319  2021  CT010   NaN      Seed  4473.0     0     1       NaN     1577.0   \n",
       "4334  2020  CT009    게임      Seed  4449.0     0     1      64.0      196.0   \n",
       "4342  2006  CT007  헬스케어  Series A  3695.0     1     1      45.0     1912.0   \n",
       "4370  2005  CT006   NaN  Series A   237.0     0     0       NaN     6252.0   \n",
       "4374  2001  CT007    AI       IPO  1438.0     0     0      53.0     2395.0   \n",
       "\n",
       "      연매출(억원)  SNS 팔로워 수(백만명)  기업가치(백억원)  성공확률  기업가치(백억원)_수치형  \n",
       "8      2568.0            4.94        NaN   0.9            NaN  \n",
       "12     2954.0            3.14        NaN   0.9            NaN  \n",
       "14     6509.0            4.00  3500-4500   0.9         4000.0  \n",
       "22     7304.0            4.08        NaN   0.9            NaN  \n",
       "26      129.0            4.00  2500-3500   0.9         3000.0  \n",
       "...       ...             ...        ...   ...            ...  \n",
       "4319   4167.0            2.78        NaN   0.9            NaN  \n",
       "4334   5098.0            4.00  1500-2500   0.9         2000.0  \n",
       "4342   1362.0            2.95        NaN   0.9            NaN  \n",
       "4370    759.0            4.31        NaN   0.9            NaN  \n",
       "4374   3755.0            5.00  4500-6000   0.9         5250.0  \n",
       "\n",
       "[475 rows x 14 columns]"
      ]
     },
     "execution_count": 139,
     "metadata": {},
     "output_type": "execute_result"
    }
   ],
   "source": [
    "#성공확률이 80% 이상\n",
    "train[train['성공확률'] > 0.8]"
   ]
  },
  {
   "cell_type": "code",
   "execution_count": 140,
   "metadata": {},
   "outputs": [
    {
     "data": {
      "text/html": [
       "<div>\n",
       "<style scoped>\n",
       "    .dataframe tbody tr th:only-of-type {\n",
       "        vertical-align: middle;\n",
       "    }\n",
       "\n",
       "    .dataframe tbody tr th {\n",
       "        vertical-align: top;\n",
       "    }\n",
       "\n",
       "    .dataframe thead th {\n",
       "        text-align: right;\n",
       "    }\n",
       "</style>\n",
       "<table border=\"1\" class=\"dataframe\">\n",
       "  <thead>\n",
       "    <tr style=\"text-align: right;\">\n",
       "      <th></th>\n",
       "      <th>설립연도</th>\n",
       "      <th>국가</th>\n",
       "      <th>분야</th>\n",
       "      <th>투자단계</th>\n",
       "      <th>직원 수</th>\n",
       "      <th>인수여부</th>\n",
       "      <th>상장여부</th>\n",
       "      <th>고객수(백만명)</th>\n",
       "      <th>총 투자금(억원)</th>\n",
       "      <th>연매출(억원)</th>\n",
       "      <th>SNS 팔로워 수(백만명)</th>\n",
       "      <th>기업가치(백억원)</th>\n",
       "      <th>성공확률</th>\n",
       "      <th>기업가치(백억원)_수치형</th>\n",
       "    </tr>\n",
       "  </thead>\n",
       "  <tbody>\n",
       "    <tr>\n",
       "      <th>4</th>\n",
       "      <td>2020</td>\n",
       "      <td>CT002</td>\n",
       "      <td>에듀테크</td>\n",
       "      <td>Seed</td>\n",
       "      <td>1969.0</td>\n",
       "      <td>0</td>\n",
       "      <td>1</td>\n",
       "      <td>94.0</td>\n",
       "      <td>829.0</td>\n",
       "      <td>9810.0</td>\n",
       "      <td>1.00</td>\n",
       "      <td>1500-2500</td>\n",
       "      <td>0.1</td>\n",
       "      <td>2000.0</td>\n",
       "    </tr>\n",
       "    <tr>\n",
       "      <th>11</th>\n",
       "      <td>2002</td>\n",
       "      <td>CT001</td>\n",
       "      <td>에듀테크</td>\n",
       "      <td>Series C</td>\n",
       "      <td>1026.0</td>\n",
       "      <td>0</td>\n",
       "      <td>1</td>\n",
       "      <td>74.0</td>\n",
       "      <td>2301.0</td>\n",
       "      <td>9308.0</td>\n",
       "      <td>2.00</td>\n",
       "      <td>2500-3500</td>\n",
       "      <td>0.1</td>\n",
       "      <td>3000.0</td>\n",
       "    </tr>\n",
       "    <tr>\n",
       "      <th>16</th>\n",
       "      <td>2009</td>\n",
       "      <td>CT003</td>\n",
       "      <td>물류</td>\n",
       "      <td>Seed</td>\n",
       "      <td>2083.0</td>\n",
       "      <td>1</td>\n",
       "      <td>1</td>\n",
       "      <td>61.0</td>\n",
       "      <td>2294.0</td>\n",
       "      <td>5652.0</td>\n",
       "      <td>1.00</td>\n",
       "      <td>4500-6000</td>\n",
       "      <td>0.1</td>\n",
       "      <td>5250.0</td>\n",
       "    </tr>\n",
       "    <tr>\n",
       "      <th>25</th>\n",
       "      <td>2009</td>\n",
       "      <td>CT004</td>\n",
       "      <td>NaN</td>\n",
       "      <td>Seed</td>\n",
       "      <td>1098.0</td>\n",
       "      <td>1</td>\n",
       "      <td>0</td>\n",
       "      <td>NaN</td>\n",
       "      <td>2152.0</td>\n",
       "      <td>10885.0</td>\n",
       "      <td>0.80</td>\n",
       "      <td>NaN</td>\n",
       "      <td>0.1</td>\n",
       "      <td>NaN</td>\n",
       "    </tr>\n",
       "    <tr>\n",
       "      <th>38</th>\n",
       "      <td>2011</td>\n",
       "      <td>CT001</td>\n",
       "      <td>기술</td>\n",
       "      <td>Series A</td>\n",
       "      <td>2127.0</td>\n",
       "      <td>1</td>\n",
       "      <td>0</td>\n",
       "      <td>85.0</td>\n",
       "      <td>3975.0</td>\n",
       "      <td>7481.0</td>\n",
       "      <td>1.00</td>\n",
       "      <td>3500-4500</td>\n",
       "      <td>0.1</td>\n",
       "      <td>4000.0</td>\n",
       "    </tr>\n",
       "    <tr>\n",
       "      <th>...</th>\n",
       "      <td>...</td>\n",
       "      <td>...</td>\n",
       "      <td>...</td>\n",
       "      <td>...</td>\n",
       "      <td>...</td>\n",
       "      <td>...</td>\n",
       "      <td>...</td>\n",
       "      <td>...</td>\n",
       "      <td>...</td>\n",
       "      <td>...</td>\n",
       "      <td>...</td>\n",
       "      <td>...</td>\n",
       "      <td>...</td>\n",
       "      <td>...</td>\n",
       "    </tr>\n",
       "    <tr>\n",
       "      <th>4350</th>\n",
       "      <td>2004</td>\n",
       "      <td>CT004</td>\n",
       "      <td>헬스케어</td>\n",
       "      <td>Series B</td>\n",
       "      <td>512.0</td>\n",
       "      <td>1</td>\n",
       "      <td>0</td>\n",
       "      <td>91.0</td>\n",
       "      <td>774.0</td>\n",
       "      <td>6278.0</td>\n",
       "      <td>4.00</td>\n",
       "      <td>4500-6000</td>\n",
       "      <td>0.1</td>\n",
       "      <td>5250.0</td>\n",
       "    </tr>\n",
       "    <tr>\n",
       "      <th>4352</th>\n",
       "      <td>2010</td>\n",
       "      <td>CT009</td>\n",
       "      <td>기술</td>\n",
       "      <td>Series C</td>\n",
       "      <td>3284.0</td>\n",
       "      <td>0</td>\n",
       "      <td>1</td>\n",
       "      <td>18.0</td>\n",
       "      <td>5885.0</td>\n",
       "      <td>2880.0</td>\n",
       "      <td>1.00</td>\n",
       "      <td>4500-6000</td>\n",
       "      <td>0.1</td>\n",
       "      <td>5250.0</td>\n",
       "    </tr>\n",
       "    <tr>\n",
       "      <th>4360</th>\n",
       "      <td>2003</td>\n",
       "      <td>CT003</td>\n",
       "      <td>NaN</td>\n",
       "      <td>Series C</td>\n",
       "      <td>NaN</td>\n",
       "      <td>0</td>\n",
       "      <td>0</td>\n",
       "      <td>NaN</td>\n",
       "      <td>4786.0</td>\n",
       "      <td>4053.0</td>\n",
       "      <td>1.15</td>\n",
       "      <td>NaN</td>\n",
       "      <td>0.1</td>\n",
       "      <td>NaN</td>\n",
       "    </tr>\n",
       "    <tr>\n",
       "      <th>4361</th>\n",
       "      <td>2014</td>\n",
       "      <td>CT001</td>\n",
       "      <td>NaN</td>\n",
       "      <td>Series A</td>\n",
       "      <td>4971.0</td>\n",
       "      <td>1</td>\n",
       "      <td>0</td>\n",
       "      <td>NaN</td>\n",
       "      <td>2820.0</td>\n",
       "      <td>10761.0</td>\n",
       "      <td>3.84</td>\n",
       "      <td>2500-3500</td>\n",
       "      <td>0.1</td>\n",
       "      <td>3000.0</td>\n",
       "    </tr>\n",
       "    <tr>\n",
       "      <th>4364</th>\n",
       "      <td>2002</td>\n",
       "      <td>CT002</td>\n",
       "      <td>NaN</td>\n",
       "      <td>Series B</td>\n",
       "      <td>1980.0</td>\n",
       "      <td>1</td>\n",
       "      <td>1</td>\n",
       "      <td>NaN</td>\n",
       "      <td>4875.0</td>\n",
       "      <td>8403.0</td>\n",
       "      <td>4.12</td>\n",
       "      <td>4500-6000</td>\n",
       "      <td>0.1</td>\n",
       "      <td>5250.0</td>\n",
       "    </tr>\n",
       "  </tbody>\n",
       "</table>\n",
       "<p>490 rows × 14 columns</p>\n",
       "</div>"
      ],
      "text/plain": [
       "      설립연도     국가    분야      투자단계    직원 수  인수여부  상장여부  고객수(백만명)  총 투자금(억원)  \\\n",
       "4     2020  CT002  에듀테크      Seed  1969.0     0     1      94.0      829.0   \n",
       "11    2002  CT001  에듀테크  Series C  1026.0     0     1      74.0     2301.0   \n",
       "16    2009  CT003    물류      Seed  2083.0     1     1      61.0     2294.0   \n",
       "25    2009  CT004   NaN      Seed  1098.0     1     0       NaN     2152.0   \n",
       "38    2011  CT001    기술  Series A  2127.0     1     0      85.0     3975.0   \n",
       "...    ...    ...   ...       ...     ...   ...   ...       ...        ...   \n",
       "4350  2004  CT004  헬스케어  Series B   512.0     1     0      91.0      774.0   \n",
       "4352  2010  CT009    기술  Series C  3284.0     0     1      18.0     5885.0   \n",
       "4360  2003  CT003   NaN  Series C     NaN     0     0       NaN     4786.0   \n",
       "4361  2014  CT001   NaN  Series A  4971.0     1     0       NaN     2820.0   \n",
       "4364  2002  CT002   NaN  Series B  1980.0     1     1       NaN     4875.0   \n",
       "\n",
       "      연매출(억원)  SNS 팔로워 수(백만명)  기업가치(백억원)  성공확률  기업가치(백억원)_수치형  \n",
       "4      9810.0            1.00  1500-2500   0.1         2000.0  \n",
       "11     9308.0            2.00  2500-3500   0.1         3000.0  \n",
       "16     5652.0            1.00  4500-6000   0.1         5250.0  \n",
       "25    10885.0            0.80        NaN   0.1            NaN  \n",
       "38     7481.0            1.00  3500-4500   0.1         4000.0  \n",
       "...       ...             ...        ...   ...            ...  \n",
       "4350   6278.0            4.00  4500-6000   0.1         5250.0  \n",
       "4352   2880.0            1.00  4500-6000   0.1         5250.0  \n",
       "4360   4053.0            1.15        NaN   0.1            NaN  \n",
       "4361  10761.0            3.84  2500-3500   0.1         3000.0  \n",
       "4364   8403.0            4.12  4500-6000   0.1         5250.0  \n",
       "\n",
       "[490 rows x 14 columns]"
      ]
     },
     "execution_count": 140,
     "metadata": {},
     "output_type": "execute_result"
    }
   ],
   "source": [
    "train[train['성공확률'] < 0.2]"
   ]
  },
  {
   "cell_type": "markdown",
   "metadata": {},
   "source": [
    "| 알고리즘                                                                  | 개념 요약                | 장점                                           | 단점                                   | 추천 상황               |\r\n",
    "| --------------------------------------------------------------------- | -------------------- | -------------------------------------------- | ------------------------------------ | ------------------- |\r\n",
    "| **1. 선형 회귀 (Linear Regression)**                                      | 독립변수의 선형 조합으로 타깃 예측  | - 빠르고 해석 쉬움<br>- 과적합 적음                      | - 비선형 관계에 약함<br>- 이상치에 민감            | - 단순하고 선형 관계 예상될 때  |\r\n",
    "| **2. 랜덤 포레스트 회귀 (RandomForestRegressor)**                             | 여러 결정 트리를 앙상블해 평균 예측 | - 비선형도 잘 처리<br>- 이상치와 결측치에 강함<br>- 변수 중요도 제공 | - 느릴 수 있음<br>- 해석 어려움                | - 데이터가 복잡하고 비선형일 때  |\r\n",
    "| **3. 그레이디언트 부스팅 회귀 (GradientBoostingRegressor / XGBoost / LightGBM)** | 약한 모델을 반복적으로 개선하는 방식 | - 고성능<br>- 정교한 예측 가능<br>- 하이퍼파라미터 다양         | - 과적합 위험<br>- 파라미터 조정 필요             | - 정확도가 중요한 경우, 대회 등 |\r\n",
    "| **4. KNN 회귀 (KNeighborsRegressor)**                                   | 주변의 K개 이웃의 평균으로 예측   | - 모델 구조 간단<br>- 훈련 시간 거의 없음                  | - 예측 느림<br>- 고차원에서 성능 저하<br>- 이상치 민감 | - 데이터 수 적고 단순할 때    |\r\n",
    "| **5. 신경망 회귀 (MLPRegressor / 딥러닝)**                                    | 여러 은닉층을 통해 복잡한 함수 근사 | - 고차원, 복잡한 패턴 잘 잡음<br>- 비선형 모델링 우수           | - 학습시간 길고<br>- 과적합 위험<br>- 해석 어려움    | - 데이터 많고 복잡한 문제에 적합 |\r\n"
   ]
  },
  {
   "cell_type": "markdown",
   "metadata": {},
   "source": [
    "그레이디언트 부스팅 회귀 (GradientBoostingRegressor / XGBoost / LightGBM)"
   ]
  },
  {
   "cell_type": "code",
   "execution_count": 141,
   "metadata": {},
   "outputs": [],
   "source": [
    "train.isna().sum()# 기업가치(백억원)_수치형 컬럼 따로 저장\n",
    "기업가치_수치형 = train['기업가치(백억원)_수치형'].copy()\n",
    "\n",
    "# train에서 해당 컬럼 제거\n",
    "train = train.drop(columns=['기업가치(백억원)_수치형'])"
   ]
  },
  {
   "cell_type": "code",
   "execution_count": 142,
   "metadata": {},
   "outputs": [
    {
     "name": "stdout",
     "output_type": "stream",
     "text": [
      "<class 'pandas.core.frame.DataFrame'>\n",
      "RangeIndex: 4376 entries, 0 to 4375\n",
      "Data columns (total 13 columns):\n",
      " #   Column          Non-Null Count  Dtype  \n",
      "---  ------          --------------  -----  \n",
      " 0   설립연도            4376 non-null   object \n",
      " 1   국가              4376 non-null   object \n",
      " 2   분야              3519 non-null   object \n",
      " 3   투자단계            4376 non-null   object \n",
      " 4   직원 수            4202 non-null   float64\n",
      " 5   인수여부            4376 non-null   int64  \n",
      " 6   상장여부            4376 non-null   int64  \n",
      " 7   고객수(백만명)        3056 non-null   float64\n",
      " 8   총 투자금(억원)       4376 non-null   float64\n",
      " 9   연매출(억원)         4376 non-null   float64\n",
      " 10  SNS 팔로워 수(백만명)  4376 non-null   float64\n",
      " 11  기업가치(백억원)       3156 non-null   object \n",
      " 12  성공확률            4376 non-null   float64\n",
      "dtypes: float64(6), int64(2), object(5)\n",
      "memory usage: 444.6+ KB\n"
     ]
    }
   ],
   "source": [
    "train.info()"
   ]
  },
  {
   "cell_type": "code",
   "execution_count": 143,
   "metadata": {},
   "outputs": [],
   "source": [
    "# LabelEncoder 객체를 각 범주형 feature별로 따로 저장하여 사용\n",
    "encoders = {}\n",
    "\n",
    "# 범주형 데이터를 encoding\n",
    "for feature in category_features:\n",
    "    encoders[feature] = LabelEncoder()\n",
    "    train[feature] = train[feature].fillna('Missing')\n",
    "    test[feature] = test[feature].fillna('Missing')\n",
    "    train[feature] = encoders[feature].fit_transform(train[feature])\n",
    "    test[feature] = encoders[feature].transform(test[feature])\n",
    "\n",
    "# 수치형 변수 결측치를 평균값으로 대체\n",
    "for feature in numeric_features:\n",
    "    mean_value = train[feature].mean()\n",
    "    train[feature] = train[feature].fillna(mean_value)\n",
    "    test[feature] = test[feature].fillna(mean_value)\n",
    "\n",
    "# TabNet용 범주형 변수 인덱스(cat_idxs) 및 차원(cat_dims) 설정\n",
    "features = [col for col in train.columns if col != '성공확률']\n",
    "cat_idxs = [features.index(col) for col in category_features]\n",
    "cat_dims = [train[col].max() + 1 for col in category_features]"
   ]
  },
  {
   "cell_type": "code",
   "execution_count": 144,
   "metadata": {},
   "outputs": [],
   "source": [
    "train = train"
   ]
  },
  {
   "cell_type": "markdown",
   "metadata": {},
   "source": [
    "# K-Fold Model Training"
   ]
  },
  {
   "cell_type": "markdown",
   "metadata": {},
   "source": [
    "- K-Fold와 GradientBoostingRegressor 성능 비교"
   ]
  },
  {
   "cell_type": "code",
   "execution_count": 145,
   "metadata": {},
   "outputs": [
    {
     "name": "stdout",
     "output_type": "stream",
     "text": [
      "\n",
      "🔁 Fold 1/5\n"
     ]
    },
    {
     "name": "stderr",
     "output_type": "stream",
     "text": [
      "C:\\Users\\starf\\anaconda3\\Lib\\site-packages\\pytorch_tabnet\\abstract_model.py:687: UserWarning: No early stopping will be performed, last training weights will be used.\n",
      "  warnings.warn(wrn_msg)\n",
      "C:\\Users\\starf\\anaconda3\\Lib\\site-packages\\pytorch_tabnet\\abstract_model.py:248: UserWarning: Loading weights from unsupervised pretraining\n",
      "  warnings.warn(\"Loading weights from unsupervised pretraining\")\n"
     ]
    },
    {
     "name": "stdout",
     "output_type": "stream",
     "text": [
      "\n",
      "Early stopping occurred at epoch 48 with best_epoch = 38 and best_val_0_mae = 0.2035\n"
     ]
    },
    {
     "name": "stderr",
     "output_type": "stream",
     "text": [
      "C:\\Users\\starf\\anaconda3\\Lib\\site-packages\\pytorch_tabnet\\callbacks.py:172: UserWarning: Best weights from best epoch are automatically used!\n",
      "  warnings.warn(wrn_msg)\n"
     ]
    },
    {
     "name": "stdout",
     "output_type": "stream",
     "text": [
      "📉 TabNet MAE: 0.2035\n",
      "🌲 GBR MAE: 0.2067\n",
      "\n",
      "🔁 Fold 2/5\n"
     ]
    },
    {
     "name": "stderr",
     "output_type": "stream",
     "text": [
      "C:\\Users\\starf\\anaconda3\\Lib\\site-packages\\pytorch_tabnet\\abstract_model.py:687: UserWarning: No early stopping will be performed, last training weights will be used.\n",
      "  warnings.warn(wrn_msg)\n",
      "C:\\Users\\starf\\anaconda3\\Lib\\site-packages\\pytorch_tabnet\\abstract_model.py:248: UserWarning: Loading weights from unsupervised pretraining\n",
      "  warnings.warn(\"Loading weights from unsupervised pretraining\")\n"
     ]
    },
    {
     "name": "stdout",
     "output_type": "stream",
     "text": [
      "\n",
      "Early stopping occurred at epoch 32 with best_epoch = 22 and best_val_0_mae = 0.20604\n"
     ]
    },
    {
     "name": "stderr",
     "output_type": "stream",
     "text": [
      "C:\\Users\\starf\\anaconda3\\Lib\\site-packages\\pytorch_tabnet\\callbacks.py:172: UserWarning: Best weights from best epoch are automatically used!\n",
      "  warnings.warn(wrn_msg)\n"
     ]
    },
    {
     "name": "stdout",
     "output_type": "stream",
     "text": [
      "📉 TabNet MAE: 0.2060\n",
      "🌲 GBR MAE: 0.2070\n",
      "\n",
      "🔁 Fold 3/5\n"
     ]
    },
    {
     "name": "stderr",
     "output_type": "stream",
     "text": [
      "C:\\Users\\starf\\anaconda3\\Lib\\site-packages\\pytorch_tabnet\\abstract_model.py:687: UserWarning: No early stopping will be performed, last training weights will be used.\n",
      "  warnings.warn(wrn_msg)\n",
      "C:\\Users\\starf\\anaconda3\\Lib\\site-packages\\pytorch_tabnet\\abstract_model.py:248: UserWarning: Loading weights from unsupervised pretraining\n",
      "  warnings.warn(\"Loading weights from unsupervised pretraining\")\n"
     ]
    },
    {
     "name": "stdout",
     "output_type": "stream",
     "text": [
      "\n",
      "Early stopping occurred at epoch 34 with best_epoch = 24 and best_val_0_mae = 0.20658\n",
      "📉 TabNet MAE: 0.2066\n"
     ]
    },
    {
     "name": "stderr",
     "output_type": "stream",
     "text": [
      "C:\\Users\\starf\\anaconda3\\Lib\\site-packages\\pytorch_tabnet\\callbacks.py:172: UserWarning: Best weights from best epoch are automatically used!\n",
      "  warnings.warn(wrn_msg)\n"
     ]
    },
    {
     "name": "stdout",
     "output_type": "stream",
     "text": [
      "🌲 GBR MAE: 0.2024\n",
      "\n",
      "🔁 Fold 4/5\n"
     ]
    },
    {
     "name": "stderr",
     "output_type": "stream",
     "text": [
      "C:\\Users\\starf\\anaconda3\\Lib\\site-packages\\pytorch_tabnet\\abstract_model.py:687: UserWarning: No early stopping will be performed, last training weights will be used.\n",
      "  warnings.warn(wrn_msg)\n",
      "C:\\Users\\starf\\anaconda3\\Lib\\site-packages\\pytorch_tabnet\\abstract_model.py:248: UserWarning: Loading weights from unsupervised pretraining\n",
      "  warnings.warn(\"Loading weights from unsupervised pretraining\")\n"
     ]
    },
    {
     "name": "stdout",
     "output_type": "stream",
     "text": [
      "\n",
      "Early stopping occurred at epoch 49 with best_epoch = 39 and best_val_0_mae = 0.20125\n"
     ]
    },
    {
     "name": "stderr",
     "output_type": "stream",
     "text": [
      "C:\\Users\\starf\\anaconda3\\Lib\\site-packages\\pytorch_tabnet\\callbacks.py:172: UserWarning: Best weights from best epoch are automatically used!\n",
      "  warnings.warn(wrn_msg)\n"
     ]
    },
    {
     "name": "stdout",
     "output_type": "stream",
     "text": [
      "📉 TabNet MAE: 0.2013\n",
      "🌲 GBR MAE: 0.2023\n",
      "\n",
      "🔁 Fold 5/5\n"
     ]
    },
    {
     "name": "stderr",
     "output_type": "stream",
     "text": [
      "C:\\Users\\starf\\anaconda3\\Lib\\site-packages\\pytorch_tabnet\\abstract_model.py:687: UserWarning: No early stopping will be performed, last training weights will be used.\n",
      "  warnings.warn(wrn_msg)\n",
      "C:\\Users\\starf\\anaconda3\\Lib\\site-packages\\pytorch_tabnet\\abstract_model.py:248: UserWarning: Loading weights from unsupervised pretraining\n",
      "  warnings.warn(\"Loading weights from unsupervised pretraining\")\n"
     ]
    },
    {
     "name": "stdout",
     "output_type": "stream",
     "text": [
      "\n",
      "Early stopping occurred at epoch 56 with best_epoch = 46 and best_val_0_mae = 0.20536\n"
     ]
    },
    {
     "name": "stderr",
     "output_type": "stream",
     "text": [
      "C:\\Users\\starf\\anaconda3\\Lib\\site-packages\\pytorch_tabnet\\callbacks.py:172: UserWarning: Best weights from best epoch are automatically used!\n",
      "  warnings.warn(wrn_msg)\n"
     ]
    },
    {
     "name": "stdout",
     "output_type": "stream",
     "text": [
      "📉 TabNet MAE: 0.2054\n",
      "🌲 GBR MAE: 0.2068\n",
      "\n",
      "✅ 모든 fold 학습 완료!\n",
      "\n",
      "📊 TabNet 평균 MAE: 0.2045\n",
      "📊 GBR 평균 MAE: 0.2050\n"
     ]
    }
   ],
   "source": [
    "from sklearn.ensemble import GradientBoostingRegressor\n",
    "from sklearn.metrics import mean_absolute_error\n",
    "from sklearn.model_selection import KFold\n",
    "from pytorch_tabnet.pretraining import TabNetPretrainer\n",
    "from pytorch_tabnet.tab_model import TabNetRegressor\n",
    "import torch\n",
    "import numpy as np\n",
    "\n",
    "# 가정: features, cat_idxs, cat_dims, train = 전처리 완료 상태\n",
    "\n",
    "X = train[features]\n",
    "y = train['성공확률']\n",
    "\n",
    "N_FOLDS = 5\n",
    "kf = KFold(n_splits=N_FOLDS, shuffle=True, random_state=42)\n",
    "\n",
    "tabnet_models, gbr_models = [], []\n",
    "tabnet_scores, gbr_scores = [], []\n",
    "\n",
    "for fold, (train_idx, valid_idx) in enumerate(kf.split(X)):\n",
    "    print(f\"\\n🔁 Fold {fold+1}/{N_FOLDS}\")\n",
    "\n",
    "    X_train = X.iloc[train_idx].values\n",
    "    y_train = y.iloc[train_idx].values.reshape(-1, 1)\n",
    "    X_valid = X.iloc[valid_idx].values\n",
    "    y_valid = y.iloc[valid_idx].values.reshape(-1, 1)\n",
    "\n",
    "    # ⚙️ Pretraining TabNet\n",
    "    pretrainer = TabNetPretrainer(\n",
    "        cat_idxs=cat_idxs,\n",
    "        cat_dims=cat_dims,\n",
    "        seed=42,\n",
    "        verbose=0\n",
    "    )\n",
    "    pretrainer.fit(\n",
    "        X_train=X_train,\n",
    "        max_epochs=100,\n",
    "        batch_size=512,\n",
    "        virtual_batch_size=64\n",
    "    )\n",
    "\n",
    "    # ✅ TabNet Fine-tuning\n",
    "    tabnet_model = TabNetRegressor(\n",
    "        cat_idxs=cat_idxs,\n",
    "        cat_dims=cat_dims,\n",
    "        seed=42,\n",
    "        verbose=0,\n",
    "        optimizer_fn=torch.optim.AdamW\n",
    "    )\n",
    "    tabnet_model.fit(\n",
    "        X_train=X_train, y_train=y_train,\n",
    "        eval_set=[(X_valid, y_valid)],\n",
    "        from_unsupervised=pretrainer,\n",
    "        eval_metric=['mae'],\n",
    "        max_epochs=100,\n",
    "        patience=10\n",
    "    )\n",
    "    tabnet_models.append(tabnet_model)\n",
    "    tabnet_scores.append(tabnet_model.best_cost)\n",
    "    print(f\"📉 TabNet MAE: {tabnet_model.best_cost:.4f}\")\n",
    "\n",
    "    # ✅ Gradient Boosting Regressor\n",
    "    gbr_model = GradientBoostingRegressor(random_state=42)\n",
    "    gbr_model.fit(X_train, y_train.ravel())\n",
    "    gbr_pred = gbr_model.predict(X_valid)\n",
    "    gbr_mae = mean_absolute_error(y_valid, gbr_pred)\n",
    "    gbr_models.append(gbr_model)\n",
    "    gbr_scores.append(gbr_mae)\n",
    "    print(f\"🌲 GBR MAE: {gbr_mae:.4f}\")\n",
    "\n",
    "# 평균 성능 출력\n",
    "print(\"\\n✅ 모든 fold 학습 완료!\")\n",
    "print(f\"\\n📊 TabNet 평균 MAE: {np.mean(tabnet_scores):.4f}\")\n",
    "print(f\"📊 GBR 평균 MAE: {np.mean(gbr_scores):.4f}\")\n"
   ]
  },
  {
   "cell_type": "markdown",
   "metadata": {},
   "source": [
    "# 타겟 지정\n",
    "target = train['성공확률']  \n",
    "X = train[features]\n",
    "y = target\n",
    "\n",
    "# KFold 설정\n",
    "N_FOLDS = 5\n",
    "kf = KFold(n_splits=N_FOLDS, shuffle=True, random_state=42)\n",
    "\n",
    "models = [] # 모델 저장 리스트\n",
    "cv_scores = []\n",
    "\n",
    "for fold, (train_idx, valid_idx) in enumerate(kf.split(X)):\n",
    "    print(f\"\\n🔁 Fold {fold+1}/{N_FOLDS}\")\n",
    "    \n",
    "    X_train = X.iloc[train_idx].values\n",
    "    y_train = y.iloc[train_idx].values.reshape(-1, 1)\n",
    "    \n",
    "    X_valid = X.iloc[valid_idx].values\n",
    "    y_valid = y.iloc[valid_idx].values.reshape(-1, 1)\n",
    "    \n",
    "    # 비지도 사전학습\n",
    "    print(\"▶ Pretraining...\")\n",
    "\n",
    "    pretrainer = TabNetPretrainer(\n",
    "        cat_idxs=cat_idxs,\n",
    "        cat_dims=cat_dims,\n",
    "        seed=42,\n",
    "        verbose=0\n",
    "    )\n",
    "\n",
    "    pretrainer.fit(\n",
    "        X_train=X_train,\n",
    "        max_epochs=100,\n",
    "        batch_size=512,\n",
    "        virtual_batch_size=64\n",
    "    )\n",
    "\n",
    "    # 지도 학습 \n",
    "    print(\"▶ Fine-tuning...\")\n",
    "    model = TabNetRegressor(\n",
    "        cat_idxs=cat_idxs,\n",
    "        cat_dims=cat_dims,\n",
    "        seed=42,\n",
    "        verbose=0,\n",
    "        optimizer_fn=torch.optim.AdamW \n",
    "    )\n",
    "\n",
    "    model.fit(\n",
    "        X_train=X_train, y_train=y_train,\n",
    "        eval_set=[(X_valid, y_valid)],\n",
    "        from_unsupervised=pretrainer,\n",
    "        eval_metric=['mae'],\n",
    "        max_epochs=100,\n",
    "        patience=10\n",
    "    )\n",
    "\n",
    "    # 모델을 메모리에 저장\n",
    "    models.append(model)\n",
    "    cv_scores.append(model.best_cost)\n",
    "\n",
    "print(\"\\n✅ 모든 fold 모델 학습 완료!\")"
   ]
  },
  {
   "cell_type": "markdown",
   "metadata": {},
   "source": [
    "# K-Fold Model Prediction"
   ]
  },
  {
   "cell_type": "markdown",
   "metadata": {},
   "source": [
    "# 저장된 모델들로 예측\n",
    "predictions_list = []\n",
    "\n",
    "for fold, model in enumerate(models):\n",
    "    print(f\"Predict with fold {fold+1}\")\n",
    "    preds = model.predict(test[features].values)\n",
    "    predictions_list.append(preds)\n",
    "\n",
    "# 평균 예측\n",
    "final_predictions = np.mean(predictions_list, axis=0)"
   ]
  },
  {
   "cell_type": "markdown",
   "metadata": {},
   "source": [
    "# Submission"
   ]
  },
  {
   "cell_type": "markdown",
   "metadata": {},
   "source": [
    "sample_submission['성공확률'] = final_predictions\n",
    "sample_submission.to_csv('./baseline_submission.csv', index = False, encoding = 'utf-8-sig')"
   ]
  }
 ],
 "metadata": {
  "kernelspec": {
   "display_name": "Python 3 (ipykernel)",
   "language": "python",
   "name": "python3"
  },
  "language_info": {
   "codemirror_mode": {
    "name": "ipython",
    "version": 3
   },
   "file_extension": ".py",
   "mimetype": "text/x-python",
   "name": "python",
   "nbconvert_exporter": "python",
   "pygments_lexer": "ipython3",
   "version": "3.11.7"
  }
 },
 "nbformat": 4,
 "nbformat_minor": 4
}
