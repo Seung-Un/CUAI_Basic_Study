{
 "cells": [
  {
   "cell_type": "code",
   "execution_count": 2,
   "id": "a8cb8272-2b46-436b-a9d8-973dd3ed7436",
   "metadata": {},
   "outputs": [],
   "source": [
    "import pandas as pd \n",
    "company_df = pd.read_csv('company_train.csv')"
   ]
  },
  {
   "cell_type": "code",
   "execution_count": 3,
   "id": "1156e10c-b3ca-4e71-8a67-d43ac159c91a",
   "metadata": {},
   "outputs": [
    {
     "data": {
      "text/html": [
       "<div>\n",
       "<style scoped>\n",
       "    .dataframe tbody tr th:only-of-type {\n",
       "        vertical-align: middle;\n",
       "    }\n",
       "\n",
       "    .dataframe tbody tr th {\n",
       "        vertical-align: top;\n",
       "    }\n",
       "\n",
       "    .dataframe thead th {\n",
       "        text-align: right;\n",
       "    }\n",
       "</style>\n",
       "<table border=\"1\" class=\"dataframe\">\n",
       "  <thead>\n",
       "    <tr style=\"text-align: right;\">\n",
       "      <th></th>\n",
       "      <th>ID</th>\n",
       "      <th>설립연도</th>\n",
       "      <th>국가</th>\n",
       "      <th>분야</th>\n",
       "      <th>투자단계</th>\n",
       "      <th>직원 수</th>\n",
       "      <th>인수여부</th>\n",
       "      <th>상장여부</th>\n",
       "      <th>고객수(백만명)</th>\n",
       "      <th>총 투자금(억원)</th>\n",
       "      <th>연매출(억원)</th>\n",
       "      <th>SNS 팔로워 수(백만명)</th>\n",
       "      <th>기업가치(백억원)</th>\n",
       "      <th>성공확률</th>\n",
       "    </tr>\n",
       "  </thead>\n",
       "  <tbody>\n",
       "    <tr>\n",
       "      <th>0</th>\n",
       "      <td>TRAIN_0000</td>\n",
       "      <td>2009</td>\n",
       "      <td>CT005</td>\n",
       "      <td>이커머스</td>\n",
       "      <td>Series A</td>\n",
       "      <td>4126.0</td>\n",
       "      <td>No</td>\n",
       "      <td>No</td>\n",
       "      <td>56.0</td>\n",
       "      <td>3365.0</td>\n",
       "      <td>4764.0</td>\n",
       "      <td>4.71</td>\n",
       "      <td>NaN</td>\n",
       "      <td>0.3</td>\n",
       "    </tr>\n",
       "    <tr>\n",
       "      <th>1</th>\n",
       "      <td>TRAIN_0001</td>\n",
       "      <td>2023</td>\n",
       "      <td>CT006</td>\n",
       "      <td>핀테크</td>\n",
       "      <td>Seed</td>\n",
       "      <td>4167.0</td>\n",
       "      <td>Yes</td>\n",
       "      <td>No</td>\n",
       "      <td>80.0</td>\n",
       "      <td>4069.0</td>\n",
       "      <td>279.0</td>\n",
       "      <td>1.00</td>\n",
       "      <td>2500-3500</td>\n",
       "      <td>0.8</td>\n",
       "    </tr>\n",
       "    <tr>\n",
       "      <th>2</th>\n",
       "      <td>TRAIN_0002</td>\n",
       "      <td>2018</td>\n",
       "      <td>CT007</td>\n",
       "      <td>기술</td>\n",
       "      <td>Series A</td>\n",
       "      <td>3132.0</td>\n",
       "      <td>Yes</td>\n",
       "      <td>Yes</td>\n",
       "      <td>54.0</td>\n",
       "      <td>6453.0</td>\n",
       "      <td>12141.0</td>\n",
       "      <td>4.00</td>\n",
       "      <td>3500-4500</td>\n",
       "      <td>0.5</td>\n",
       "    </tr>\n",
       "    <tr>\n",
       "      <th>3</th>\n",
       "      <td>TRAIN_0003</td>\n",
       "      <td>2016</td>\n",
       "      <td>CT006</td>\n",
       "      <td>NaN</td>\n",
       "      <td>Seed</td>\n",
       "      <td>3245.0</td>\n",
       "      <td>Yes</td>\n",
       "      <td>Yes</td>\n",
       "      <td>NaN</td>\n",
       "      <td>665.0</td>\n",
       "      <td>10547.0</td>\n",
       "      <td>2.97</td>\n",
       "      <td>NaN</td>\n",
       "      <td>0.7</td>\n",
       "    </tr>\n",
       "    <tr>\n",
       "      <th>4</th>\n",
       "      <td>TRAIN_0004</td>\n",
       "      <td>2020</td>\n",
       "      <td>CT002</td>\n",
       "      <td>에듀테크</td>\n",
       "      <td>Seed</td>\n",
       "      <td>1969.0</td>\n",
       "      <td>No</td>\n",
       "      <td>Yes</td>\n",
       "      <td>94.0</td>\n",
       "      <td>829.0</td>\n",
       "      <td>9810.0</td>\n",
       "      <td>1.00</td>\n",
       "      <td>1500-2500</td>\n",
       "      <td>0.1</td>\n",
       "    </tr>\n",
       "  </tbody>\n",
       "</table>\n",
       "</div>"
      ],
      "text/plain": [
       "           ID  설립연도     국가    분야      투자단계    직원 수 인수여부 상장여부  고객수(백만명)  \\\n",
       "0  TRAIN_0000  2009  CT005  이커머스  Series A  4126.0   No   No      56.0   \n",
       "1  TRAIN_0001  2023  CT006   핀테크      Seed  4167.0  Yes   No      80.0   \n",
       "2  TRAIN_0002  2018  CT007    기술  Series A  3132.0  Yes  Yes      54.0   \n",
       "3  TRAIN_0003  2016  CT006   NaN      Seed  3245.0  Yes  Yes       NaN   \n",
       "4  TRAIN_0004  2020  CT002  에듀테크      Seed  1969.0   No  Yes      94.0   \n",
       "\n",
       "   총 투자금(억원)  연매출(억원)  SNS 팔로워 수(백만명)  기업가치(백억원)  성공확률  \n",
       "0     3365.0   4764.0            4.71        NaN   0.3  \n",
       "1     4069.0    279.0            1.00  2500-3500   0.8  \n",
       "2     6453.0  12141.0            4.00  3500-4500   0.5  \n",
       "3      665.0  10547.0            2.97        NaN   0.7  \n",
       "4      829.0   9810.0            1.00  1500-2500   0.1  "
      ]
     },
     "execution_count": 3,
     "metadata": {},
     "output_type": "execute_result"
    }
   ],
   "source": [
    "company_df.head()"
   ]
  },
  {
   "cell_type": "code",
   "execution_count": 4,
   "id": "eb4e1de0-0241-4a05-b3b7-7d77b5012564",
   "metadata": {},
   "outputs": [
    {
     "name": "stdout",
     "output_type": "stream",
     "text": [
      "<class 'pandas.core.frame.DataFrame'>\n",
      "RangeIndex: 4376 entries, 0 to 4375\n",
      "Data columns (total 14 columns):\n",
      " #   Column          Non-Null Count  Dtype  \n",
      "---  ------          --------------  -----  \n",
      " 0   ID              4376 non-null   object \n",
      " 1   설립연도            4376 non-null   int64  \n",
      " 2   국가              4376 non-null   object \n",
      " 3   분야              3519 non-null   object \n",
      " 4   투자단계            4376 non-null   object \n",
      " 5   직원 수            4202 non-null   float64\n",
      " 6   인수여부            4376 non-null   object \n",
      " 7   상장여부            4376 non-null   object \n",
      " 8   고객수(백만명)        3056 non-null   float64\n",
      " 9   총 투자금(억원)       4376 non-null   float64\n",
      " 10  연매출(억원)         4376 non-null   float64\n",
      " 11  SNS 팔로워 수(백만명)  4376 non-null   float64\n",
      " 12  기업가치(백억원)       3156 non-null   object \n",
      " 13  성공확률            4376 non-null   float64\n",
      "dtypes: float64(6), int64(1), object(7)\n",
      "memory usage: 478.8+ KB\n"
     ]
    }
   ],
   "source": [
    "company_df.info()"
   ]
  },
  {
   "cell_type": "code",
   "execution_count": 5,
   "id": "24f60f72-076c-4976-b3f5-7955d8b5120f",
   "metadata": {},
   "outputs": [
    {
     "data": {
      "text/html": [
       "<div>\n",
       "<style scoped>\n",
       "    .dataframe tbody tr th:only-of-type {\n",
       "        vertical-align: middle;\n",
       "    }\n",
       "\n",
       "    .dataframe tbody tr th {\n",
       "        vertical-align: top;\n",
       "    }\n",
       "\n",
       "    .dataframe thead th {\n",
       "        text-align: right;\n",
       "    }\n",
       "</style>\n",
       "<table border=\"1\" class=\"dataframe\">\n",
       "  <thead>\n",
       "    <tr style=\"text-align: right;\">\n",
       "      <th></th>\n",
       "      <th>설립연도</th>\n",
       "      <th>직원 수</th>\n",
       "      <th>고객수(백만명)</th>\n",
       "      <th>총 투자금(억원)</th>\n",
       "      <th>연매출(억원)</th>\n",
       "      <th>SNS 팔로워 수(백만명)</th>\n",
       "      <th>성공확률</th>\n",
       "    </tr>\n",
       "  </thead>\n",
       "  <tbody>\n",
       "    <tr>\n",
       "      <th>count</th>\n",
       "      <td>4376.000000</td>\n",
       "      <td>4202.000000</td>\n",
       "      <td>3056.000000</td>\n",
       "      <td>4376.000000</td>\n",
       "      <td>4376.000000</td>\n",
       "      <td>4376.000000</td>\n",
       "      <td>4376.000000</td>\n",
       "    </tr>\n",
       "    <tr>\n",
       "      <th>mean</th>\n",
       "      <td>2012.006856</td>\n",
       "      <td>2471.324369</td>\n",
       "      <td>49.214332</td>\n",
       "      <td>3314.568556</td>\n",
       "      <td>6452.202239</td>\n",
       "      <td>2.578103</td>\n",
       "      <td>0.537340</td>\n",
       "    </tr>\n",
       "    <tr>\n",
       "      <th>std</th>\n",
       "      <td>6.554872</td>\n",
       "      <td>1446.064215</td>\n",
       "      <td>27.141242</td>\n",
       "      <td>1880.103831</td>\n",
       "      <td>3782.792656</td>\n",
       "      <td>1.414590</td>\n",
       "      <td>0.241698</td>\n",
       "    </tr>\n",
       "    <tr>\n",
       "      <th>min</th>\n",
       "      <td>2001.000000</td>\n",
       "      <td>5.000000</td>\n",
       "      <td>1.000000</td>\n",
       "      <td>12.000000</td>\n",
       "      <td>12.000000</td>\n",
       "      <td>0.000000</td>\n",
       "      <td>0.100000</td>\n",
       "    </tr>\n",
       "    <tr>\n",
       "      <th>25%</th>\n",
       "      <td>2006.000000</td>\n",
       "      <td>1218.250000</td>\n",
       "      <td>27.000000</td>\n",
       "      <td>1651.500000</td>\n",
       "      <td>3094.250000</td>\n",
       "      <td>1.320000</td>\n",
       "      <td>0.400000</td>\n",
       "    </tr>\n",
       "    <tr>\n",
       "      <th>50%</th>\n",
       "      <td>2012.000000</td>\n",
       "      <td>2472.000000</td>\n",
       "      <td>49.000000</td>\n",
       "      <td>3398.000000</td>\n",
       "      <td>6478.500000</td>\n",
       "      <td>2.835000</td>\n",
       "      <td>0.600000</td>\n",
       "    </tr>\n",
       "    <tr>\n",
       "      <th>75%</th>\n",
       "      <td>2018.000000</td>\n",
       "      <td>3727.500000</td>\n",
       "      <td>72.000000</td>\n",
       "      <td>4908.250000</td>\n",
       "      <td>9692.500000</td>\n",
       "      <td>4.000000</td>\n",
       "      <td>0.700000</td>\n",
       "    </tr>\n",
       "    <tr>\n",
       "      <th>max</th>\n",
       "      <td>2023.000000</td>\n",
       "      <td>4998.000000</td>\n",
       "      <td>99.000000</td>\n",
       "      <td>7059.000000</td>\n",
       "      <td>14822.000000</td>\n",
       "      <td>5.000000</td>\n",
       "      <td>0.900000</td>\n",
       "    </tr>\n",
       "  </tbody>\n",
       "</table>\n",
       "</div>"
      ],
      "text/plain": [
       "              설립연도         직원 수     고객수(백만명)    총 투자금(억원)       연매출(억원)  \\\n",
       "count  4376.000000  4202.000000  3056.000000  4376.000000   4376.000000   \n",
       "mean   2012.006856  2471.324369    49.214332  3314.568556   6452.202239   \n",
       "std       6.554872  1446.064215    27.141242  1880.103831   3782.792656   \n",
       "min    2001.000000     5.000000     1.000000    12.000000     12.000000   \n",
       "25%    2006.000000  1218.250000    27.000000  1651.500000   3094.250000   \n",
       "50%    2012.000000  2472.000000    49.000000  3398.000000   6478.500000   \n",
       "75%    2018.000000  3727.500000    72.000000  4908.250000   9692.500000   \n",
       "max    2023.000000  4998.000000    99.000000  7059.000000  14822.000000   \n",
       "\n",
       "       SNS 팔로워 수(백만명)         성공확률  \n",
       "count     4376.000000  4376.000000  \n",
       "mean         2.578103     0.537340  \n",
       "std          1.414590     0.241698  \n",
       "min          0.000000     0.100000  \n",
       "25%          1.320000     0.400000  \n",
       "50%          2.835000     0.600000  \n",
       "75%          4.000000     0.700000  \n",
       "max          5.000000     0.900000  "
      ]
     },
     "execution_count": 5,
     "metadata": {},
     "output_type": "execute_result"
    }
   ],
   "source": [
    "company_df.describe()"
   ]
  },
  {
   "cell_type": "code",
   "execution_count": 6,
   "id": "408751a4-1fb9-4fc0-9925-94637af8b5d9",
   "metadata": {},
   "outputs": [
    {
     "data": {
      "text/plain": [
       "ID                   0\n",
       "설립연도                 0\n",
       "국가                   0\n",
       "분야                 857\n",
       "투자단계                 0\n",
       "직원 수               174\n",
       "인수여부                 0\n",
       "상장여부                 0\n",
       "고객수(백만명)          1320\n",
       "총 투자금(억원)            0\n",
       "연매출(억원)              0\n",
       "SNS 팔로워 수(백만명)       0\n",
       "기업가치(백억원)         1220\n",
       "성공확률                 0\n",
       "dtype: int64"
      ]
     },
     "execution_count": 6,
     "metadata": {},
     "output_type": "execute_result"
    }
   ],
   "source": [
    "company_df.isnull().sum()"
   ]
  },
  {
   "cell_type": "code",
   "execution_count": 7,
   "id": "fd37b0ec-82b4-4213-80b2-b6fe659b0684",
   "metadata": {},
   "outputs": [
    {
     "name": "stderr",
     "output_type": "stream",
     "text": [
      "C:\\Users\\sjune\\AppData\\Local\\Temp\\ipykernel_26692\\3026535441.py:2: FutureWarning: A value is trying to be set on a copy of a DataFrame or Series through chained assignment using an inplace method.\n",
      "The behavior will change in pandas 3.0. This inplace method will never work because the intermediate object on which we are setting values always behaves as a copy.\n",
      "\n",
      "For example, when doing 'df[col].method(value, inplace=True)', try using 'df.method({col: value}, inplace=True)' or df[col] = df[col].method(value) instead, to perform the operation inplace on the original object.\n",
      "\n",
      "\n",
      "  company_df['분야'].fillna('None', inplace= True)\n"
     ]
    }
   ],
   "source": [
    "#분야, 직원, 고객수, 기업가치 \n",
    "company_df['분야'].fillna('None', inplace= True)\n"
   ]
  },
  {
   "cell_type": "code",
   "execution_count": 8,
   "id": "a40a69fa-463e-415c-8c46-702fd2a831f0",
   "metadata": {},
   "outputs": [
    {
     "data": {
      "text/plain": [
       "0"
      ]
     },
     "execution_count": 8,
     "metadata": {},
     "output_type": "execute_result"
    }
   ],
   "source": [
    "company_df['분야'].isnull().sum()"
   ]
  },
  {
   "cell_type": "code",
   "execution_count": 9,
   "id": "e636c9f7-4b12-474d-b961-c2b5ab8a4ecb",
   "metadata": {},
   "outputs": [
    {
     "data": {
      "image/png": "[encoded data removed]",
      "text/plain": [
       "<Figure size 640x480 with 1 Axes>"
      ]
     },
     "metadata": {},
     "output_type": "display_data"
    }
   ],
   "source": [
    "import matplotlib.pyplot as plt\n",
    "plt.bar(company_df['연매출(억원)'], company_df['성공확률'], width = 10)\n",
    "plt.show()"
   ]
  },
  {
   "cell_type": "code",
   "execution_count": 10,
   "id": "15fdc094-300c-4a24-b58e-292cc63c0dd4",
   "metadata": {},
   "outputs": [],
   "source": [
    "#연매출의 분포를 category로 나눔 \n",
    "# 이를 기반으로 평균값을 냄 \n",
    "company_df['연매출'] = (company_df['연매출(억원)'] // 1000)"
   ]
  },
  {
   "cell_type": "code",
   "execution_count": 11,
   "id": "3e3b7d71-929d-48a4-9164-26dc6cd74001",
   "metadata": {},
   "outputs": [
    {
     "data": {
      "text/plain": [
       "0     4.0\n",
       "1     0.0\n",
       "2    12.0\n",
       "3    10.0\n",
       "4     9.0\n",
       "Name: 연매출, dtype: float64"
      ]
     },
     "execution_count": 11,
     "metadata": {},
     "output_type": "execute_result"
    }
   ],
   "source": [
    "company_df['연매출'].head()"
   ]
  },
  {
   "cell_type": "code",
   "execution_count": 12,
   "id": "da7b76df-7cc7-453a-ab05-0410676d691b",
   "metadata": {},
   "outputs": [
    {
     "data": {
      "text/plain": [
       "0        4764.0\n",
       "1         279.0\n",
       "2       12141.0\n",
       "3       10547.0\n",
       "4        9810.0\n",
       "         ...   \n",
       "4371     9394.0\n",
       "4372     2969.0\n",
       "4373     4512.0\n",
       "4374     3755.0\n",
       "4375     9417.0\n",
       "Name: 연매출(억원), Length: 4376, dtype: float64"
      ]
     },
     "execution_count": 12,
     "metadata": {},
     "output_type": "execute_result"
    }
   ],
   "source": [
    "company_df['연매출(억원)']"
   ]
  },
  {
   "cell_type": "code",
   "execution_count": 13,
   "id": "9be6933a-8a4e-412b-96e9-98a8ccc54f69",
   "metadata": {},
   "outputs": [
    {
     "data": {
      "image/png": "[encoded data removed]",
      "text/plain": [
       "<Figure size 640x480 with 1 Axes>"
      ]
     },
     "metadata": {},
     "output_type": "display_data"
    }
   ],
   "source": [
    "plt.scatter(company_df['연매출'], company_df['성공확률'], c = company_df['연매출'], cmap = 'jet')\n",
    "plt.show()"
   ]
  },
  {
   "cell_type": "code",
   "execution_count": 14,
   "id": "63e1315a-cf9b-4e44-bc48-5bdb18631007",
   "metadata": {},
   "outputs": [
    {
     "data": {
      "text/plain": [
       "0    4126.0\n",
       "1    4167.0\n",
       "2    3132.0\n",
       "3    3245.0\n",
       "4    1969.0\n",
       "Name: 직원 수, dtype: float64"
      ]
     },
     "execution_count": 14,
     "metadata": {},
     "output_type": "execute_result"
    }
   ],
   "source": [
    "company_df['직원 수'].head()"
   ]
  },
  {
   "cell_type": "code",
   "execution_count": 15,
   "id": "1120d045-50ed-4ca6-b6f2-d4827cc438de",
   "metadata": {},
   "outputs": [
    {
     "name": "stderr",
     "output_type": "stream",
     "text": [
      "C:\\Users\\sjune\\AppData\\Local\\Temp\\ipykernel_26692\\3001145077.py:1: FutureWarning: A value is trying to be set on a copy of a DataFrame or Series through chained assignment using an inplace method.\n",
      "The behavior will change in pandas 3.0. This inplace method will never work because the intermediate object on which we are setting values always behaves as a copy.\n",
      "\n",
      "For example, when doing 'df[col].method(value, inplace=True)', try using 'df.method({col: value}, inplace=True)' or df[col] = df[col].method(value) instead, to perform the operation inplace on the original object.\n",
      "\n",
      "\n",
      "  company_df['직원 수'].fillna({'직원 수':company_df['직원 수'].mean()}, inplace =True)\n"
     ]
    }
   ],
   "source": [
    "company_df['직원 수'].fillna({'직원 수':company_df['직원 수'].mean()}, inplace =True)"
   ]
  },
  {
   "cell_type": "code",
   "execution_count": 16,
   "id": "33728e11-c46b-43dd-8561-a2e37caa9823",
   "metadata": {},
   "outputs": [
    {
     "data": {
      "text/plain": [
       "ID                   0\n",
       "설립연도                 0\n",
       "국가                   0\n",
       "분야                   0\n",
       "투자단계                 0\n",
       "직원 수               174\n",
       "인수여부                 0\n",
       "상장여부                 0\n",
       "고객수(백만명)          1320\n",
       "총 투자금(억원)            0\n",
       "연매출(억원)              0\n",
       "SNS 팔로워 수(백만명)       0\n",
       "기업가치(백억원)         1220\n",
       "성공확률                 0\n",
       "연매출                  0\n",
       "dtype: int64"
      ]
     },
     "execution_count": 16,
     "metadata": {},
     "output_type": "execute_result"
    }
   ],
   "source": [
    "company_df.isna().sum()"
   ]
  },
  {
   "cell_type": "code",
   "execution_count": 17,
   "id": "8d982619-0371-47c8-8ab4-f85dbe0e2400",
   "metadata": {},
   "outputs": [],
   "source": [
    "#직원수의 값또한 이산값으로 바꾸고 싶음 \n",
    "\n",
    "\n",
    "#### 6000 이상 문제 해결 \n",
    "\n"
   ]
  },
  {
   "cell_type": "code",
   "execution_count": 18,
   "id": "71e2c221-049e-4e82-94ca-8aaee8aab1cb",
   "metadata": {},
   "outputs": [
    {
     "data": {
      "text/plain": [
       "기업가치(백억원)\n",
       "1500-2500    621\n",
       "2500-3500    635\n",
       "3500-4500    628\n",
       "4500-6000    679\n",
       "6000이상       593\n",
       "Name: 성공확률, dtype: int64"
      ]
     },
     "execution_count": 18,
     "metadata": {},
     "output_type": "execute_result"
    }
   ],
   "source": [
    "company_groupby = company_df.groupby(by='기업가치(백억원)')['성공확률'].count()\n",
    "company_groupby"
   ]
  },
  {
   "cell_type": "code",
   "execution_count": 19,
   "id": "a712d305-2eec-4b01-bb7d-70f77b68ad49",
   "metadata": {},
   "outputs": [
    {
     "name": "stderr",
     "output_type": "stream",
     "text": [
      "C:\\Users\\sjune\\anaconda3\\Lib\\site-packages\\IPython\\core\\pylabtools.py:170: UserWarning: Glyph 51060 (\\N{HANGUL SYLLABLE I}) missing from font(s) DejaVu Sans.\n",
      "  fig.canvas.print_figure(bytes_io, **kw)\n",
      "C:\\Users\\sjune\\anaconda3\\Lib\\site-packages\\IPython\\core\\pylabtools.py:170: UserWarning: Glyph 49345 (\\N{HANGUL SYLLABLE SANG}) missing from font(s) DejaVu Sans.\n",
      "  fig.canvas.print_figure(bytes_io, **kw)\n",
      "C:\\Users\\sjune\\anaconda3\\Lib\\site-packages\\IPython\\core\\pylabtools.py:170: UserWarning: Glyph 44592 (\\N{HANGUL SYLLABLE GI}) missing from font(s) DejaVu Sans.\n",
      "  fig.canvas.print_figure(bytes_io, **kw)\n",
      "C:\\Users\\sjune\\anaconda3\\Lib\\site-packages\\IPython\\core\\pylabtools.py:170: UserWarning: Glyph 50629 (\\N{HANGUL SYLLABLE EOB}) missing from font(s) DejaVu Sans.\n",
      "  fig.canvas.print_figure(bytes_io, **kw)\n",
      "C:\\Users\\sjune\\anaconda3\\Lib\\site-packages\\IPython\\core\\pylabtools.py:170: UserWarning: Glyph 44032 (\\N{HANGUL SYLLABLE GA}) missing from font(s) DejaVu Sans.\n",
      "  fig.canvas.print_figure(bytes_io, **kw)\n",
      "C:\\Users\\sjune\\anaconda3\\Lib\\site-packages\\IPython\\core\\pylabtools.py:170: UserWarning: Glyph 52824 (\\N{HANGUL SYLLABLE CI}) missing from font(s) DejaVu Sans.\n",
      "  fig.canvas.print_figure(bytes_io, **kw)\n",
      "C:\\Users\\sjune\\anaconda3\\Lib\\site-packages\\IPython\\core\\pylabtools.py:170: UserWarning: Glyph 48177 (\\N{HANGUL SYLLABLE BAEG}) missing from font(s) DejaVu Sans.\n",
      "  fig.canvas.print_figure(bytes_io, **kw)\n",
      "C:\\Users\\sjune\\anaconda3\\Lib\\site-packages\\IPython\\core\\pylabtools.py:170: UserWarning: Glyph 50613 (\\N{HANGUL SYLLABLE EOG}) missing from font(s) DejaVu Sans.\n",
      "  fig.canvas.print_figure(bytes_io, **kw)\n",
      "C:\\Users\\sjune\\anaconda3\\Lib\\site-packages\\IPython\\core\\pylabtools.py:170: UserWarning: Glyph 50896 (\\N{HANGUL SYLLABLE WEON}) missing from font(s) DejaVu Sans.\n",
      "  fig.canvas.print_figure(bytes_io, **kw)\n",
      "C:\\Users\\sjune\\anaconda3\\Lib\\site-packages\\IPython\\core\\pylabtools.py:170: UserWarning: Glyph 49457 (\\N{HANGUL SYLLABLE SEONG}) missing from font(s) DejaVu Sans.\n",
      "  fig.canvas.print_figure(bytes_io, **kw)\n",
      "C:\\Users\\sjune\\anaconda3\\Lib\\site-packages\\IPython\\core\\pylabtools.py:170: UserWarning: Glyph 44277 (\\N{HANGUL SYLLABLE GONG}) missing from font(s) DejaVu Sans.\n",
      "  fig.canvas.print_figure(bytes_io, **kw)\n",
      "C:\\Users\\sjune\\anaconda3\\Lib\\site-packages\\IPython\\core\\pylabtools.py:170: UserWarning: Glyph 54869 (\\N{HANGUL SYLLABLE HWAG}) missing from font(s) DejaVu Sans.\n",
      "  fig.canvas.print_figure(bytes_io, **kw)\n",
      "C:\\Users\\sjune\\anaconda3\\Lib\\site-packages\\IPython\\core\\pylabtools.py:170: UserWarning: Glyph 47456 (\\N{HANGUL SYLLABLE RYUL}) missing from font(s) DejaVu Sans.\n",
      "  fig.canvas.print_figure(bytes_io, **kw)\n"
     ]
    },
    {
     "data": {
      "image/png": "[encoded data removed]",
      "text/plain": [
       "<Figure size 640x480 with 1 Axes>"
      ]
     },
     "metadata": {},
     "output_type": "display_data"
    }
   ],
   "source": [
    "import seaborn as sns \n",
    "sns.barplot(x='기업가치(백억원)', y='성공확률', data = company_df)\n",
    "plt.show()"
   ]
  },
  {
   "cell_type": "code",
   "execution_count": 20,
   "id": "4fea7b1a-a61b-464a-a773-34f7dd108a83",
   "metadata": {},
   "outputs": [
    {
     "name": "stderr",
     "output_type": "stream",
     "text": [
      "C:\\Users\\sjune\\AppData\\Local\\Temp\\ipykernel_26692\\3178606112.py:1: FutureWarning: A value is trying to be set on a copy of a DataFrame or Series through chained assignment using an inplace method.\n",
      "The behavior will change in pandas 3.0. This inplace method will never work because the intermediate object on which we are setting values always behaves as a copy.\n",
      "\n",
      "For example, when doing 'df[col].method(value, inplace=True)', try using 'df.method({col: value}, inplace=True)' or df[col] = df[col].method(value) instead, to perform the operation inplace on the original object.\n",
      "\n",
      "\n",
      "  company_df['직원 수'].fillna(company_df['직원 수'].mean(),inplace =True)\n"
     ]
    },
    {
     "data": {
      "image/png": "[encoded data removed]",
      "text/plain": [
       "<Figure size 640x480 with 1 Axes>"
      ]
     },
     "metadata": {},
     "output_type": "display_data"
    }
   ],
   "source": [
    "company_df['직원 수'].fillna(company_df['직원 수'].mean(),inplace =True)\n",
    "plt.scatter(company_df['직원 수'], company_df['성공확률'], c = company_df['직원 수'], cmap = 'jet')\n",
    "plt.show()"
   ]
  },
  {
   "cell_type": "code",
   "execution_count": 21,
   "id": "5085c678-5376-4aa7-ae54-1d7261e2f427",
   "metadata": {},
   "outputs": [
    {
     "name": "stdout",
     "output_type": "stream",
     "text": [
      "<class 'pandas.core.frame.DataFrame'>\n",
      "RangeIndex: 4376 entries, 0 to 4375\n",
      "Data columns (total 15 columns):\n",
      " #   Column          Non-Null Count  Dtype  \n",
      "---  ------          --------------  -----  \n",
      " 0   ID              4376 non-null   object \n",
      " 1   설립연도            4376 non-null   int64  \n",
      " 2   국가              4376 non-null   object \n",
      " 3   분야              4376 non-null   object \n",
      " 4   투자단계            4376 non-null   object \n",
      " 5   직원 수            4376 non-null   float64\n",
      " 6   인수여부            4376 non-null   object \n",
      " 7   상장여부            4376 non-null   object \n",
      " 8   고객수(백만명)        3056 non-null   float64\n",
      " 9   총 투자금(억원)       4376 non-null   float64\n",
      " 10  연매출(억원)         4376 non-null   float64\n",
      " 11  SNS 팔로워 수(백만명)  4376 non-null   float64\n",
      " 12  기업가치(백억원)       3156 non-null   object \n",
      " 13  성공확률            4376 non-null   float64\n",
      " 14  연매출             4376 non-null   float64\n",
      "dtypes: float64(7), int64(1), object(7)\n",
      "memory usage: 512.9+ KB\n"
     ]
    }
   ],
   "source": [
    "company_df.info()"
   ]
  },
  {
   "cell_type": "code",
   "execution_count": 22,
   "id": "3871d643-c68d-4519-a0e6-e7792cdd89ee",
   "metadata": {},
   "outputs": [
    {
     "name": "stderr",
     "output_type": "stream",
     "text": [
      "C:\\Users\\sjune\\AppData\\Local\\Temp\\ipykernel_26692\\3656292045.py:1: FutureWarning: A value is trying to be set on a copy of a DataFrame or Series through chained assignment using an inplace method.\n",
      "The behavior will change in pandas 3.0. This inplace method will never work because the intermediate object on which we are setting values always behaves as a copy.\n",
      "\n",
      "For example, when doing 'df[col].method(value, inplace=True)', try using 'df.method({col: value}, inplace=True)' or df[col] = df[col].method(value) instead, to perform the operation inplace on the original object.\n",
      "\n",
      "\n",
      "  company_df['고객수(백만명)'].fillna(company_df['고객수(백만명)'].mean(),inplace =True)\n"
     ]
    },
    {
     "data": {
      "image/png": "[encoded data removed]",
      "text/plain": [
       "<Figure size 640x480 with 1 Axes>"
      ]
     },
     "metadata": {},
     "output_type": "display_data"
    }
   ],
   "source": [
    "company_df['고객수(백만명)'].fillna(company_df['고객수(백만명)'].mean(),inplace =True)\n",
    "plt.scatter(company_df['고객수(백만명)'], company_df['성공확률'], c = company_df['고객수(백만명)'], cmap = 'jet')\n",
    "plt.show()"
   ]
  },
  {
   "cell_type": "code",
   "execution_count": 23,
   "id": "bc2670e8-3823-4610-8875-ec3849369297",
   "metadata": {},
   "outputs": [
    {
     "name": "stdout",
     "output_type": "stream",
     "text": [
      "<class 'pandas.core.frame.DataFrame'>\n",
      "RangeIndex: 4376 entries, 0 to 4375\n",
      "Data columns (total 15 columns):\n",
      " #   Column          Non-Null Count  Dtype  \n",
      "---  ------          --------------  -----  \n",
      " 0   ID              4376 non-null   object \n",
      " 1   설립연도            4376 non-null   int64  \n",
      " 2   국가              4376 non-null   object \n",
      " 3   분야              4376 non-null   object \n",
      " 4   투자단계            4376 non-null   object \n",
      " 5   직원 수            4376 non-null   float64\n",
      " 6   인수여부            4376 non-null   object \n",
      " 7   상장여부            4376 non-null   object \n",
      " 8   고객수(백만명)        4376 non-null   float64\n",
      " 9   총 투자금(억원)       4376 non-null   float64\n",
      " 10  연매출(억원)         4376 non-null   float64\n",
      " 11  SNS 팔로워 수(백만명)  4376 non-null   float64\n",
      " 12  기업가치(백억원)       3156 non-null   object \n",
      " 13  성공확률            4376 non-null   float64\n",
      " 14  연매출             4376 non-null   float64\n",
      "dtypes: float64(7), int64(1), object(7)\n",
      "memory usage: 512.9+ KB\n"
     ]
    }
   ],
   "source": [
    "company_df.info()"
   ]
  },
  {
   "cell_type": "code",
   "execution_count": 24,
   "id": "4abe256f-25c9-48e3-a564-770983a14d58",
   "metadata": {},
   "outputs": [],
   "source": [
    "company_df['기업가치'] = company_df['기업가치(백억원)'].str[:4]"
   ]
  },
  {
   "cell_type": "code",
   "execution_count": 25,
   "id": "377c9bbb-54d1-4611-a766-b82aa2f24049",
   "metadata": {},
   "outputs": [
    {
     "name": "stderr",
     "output_type": "stream",
     "text": [
      "C:\\Users\\sjune\\AppData\\Local\\Temp\\ipykernel_26692\\362049880.py:1: FutureWarning: A value is trying to be set on a copy of a DataFrame or Series through chained assignment using an inplace method.\n",
      "The behavior will change in pandas 3.0. This inplace method will never work because the intermediate object on which we are setting values always behaves as a copy.\n",
      "\n",
      "For example, when doing 'df[col].method(value, inplace=True)', try using 'df.method({col: value}, inplace=True)' or df[col] = df[col].method(value) instead, to perform the operation inplace on the original object.\n",
      "\n",
      "\n",
      "  company_df['기업가치'].fillna('0000', inplace = True)\n"
     ]
    },
    {
     "data": {
      "text/plain": [
       "0       0000\n",
       "1       2500\n",
       "2       3500\n",
       "3       0000\n",
       "4       1500\n",
       "        ... \n",
       "4371    1500\n",
       "4372    6000\n",
       "4373    0000\n",
       "4374    4500\n",
       "4375    4500\n",
       "Name: 기업가치, Length: 4376, dtype: object"
      ]
     },
     "execution_count": 25,
     "metadata": {},
     "output_type": "execute_result"
    }
   ],
   "source": [
    "company_df['기업가치'].fillna('0000', inplace = True)\n",
    "company_df['기업가치']"
   ]
  },
  {
   "cell_type": "code",
   "execution_count": 26,
   "id": "d8192dc6-ad7e-432d-9e66-a91581125f7f",
   "metadata": {},
   "outputs": [],
   "source": [
    "from sklearn.preprocessing import LabelEncoder\n",
    "le = LabelEncoder()\n",
    "le = le.fit(company_df['기업가치'])\n",
    "company_df['기업가치'] = le.transform(company_df['기업가치'])\n"
   ]
  },
  {
   "cell_type": "code",
   "execution_count": 27,
   "id": "016a005d-8e1c-48f4-907f-adb1af8f1211",
   "metadata": {},
   "outputs": [
    {
     "data": {
      "text/plain": [
       "0       0\n",
       "1       2\n",
       "2       3\n",
       "3       0\n",
       "4       1\n",
       "       ..\n",
       "4371    1\n",
       "4372    5\n",
       "4373    0\n",
       "4374    4\n",
       "4375    4\n",
       "Name: 기업가치, Length: 4376, dtype: int32"
      ]
     },
     "execution_count": 27,
     "metadata": {},
     "output_type": "execute_result"
    }
   ],
   "source": [
    "company_df['기업가치']\n"
   ]
  },
  {
   "cell_type": "code",
   "execution_count": 28,
   "id": "756ff881-dc21-4abd-9171-db4678e5fea8",
   "metadata": {},
   "outputs": [],
   "source": [
    "company_df.drop(['ID', '기업가치(백억원)'], axis =1, inplace = True)"
   ]
  },
  {
   "cell_type": "code",
   "execution_count": 29,
   "id": "bdf5b51b-4ff5-4dfb-a152-1be21ccaab05",
   "metadata": {},
   "outputs": [
    {
     "name": "stdout",
     "output_type": "stream",
     "text": [
      "<class 'pandas.core.frame.DataFrame'>\n",
      "RangeIndex: 4376 entries, 0 to 4375\n",
      "Data columns (total 14 columns):\n",
      " #   Column          Non-Null Count  Dtype  \n",
      "---  ------          --------------  -----  \n",
      " 0   설립연도            4376 non-null   int64  \n",
      " 1   국가              4376 non-null   object \n",
      " 2   분야              4376 non-null   object \n",
      " 3   투자단계            4376 non-null   object \n",
      " 4   직원 수            4376 non-null   float64\n",
      " 5   인수여부            4376 non-null   object \n",
      " 6   상장여부            4376 non-null   object \n",
      " 7   고객수(백만명)        4376 non-null   float64\n",
      " 8   총 투자금(억원)       4376 non-null   float64\n",
      " 9   연매출(억원)         4376 non-null   float64\n",
      " 10  SNS 팔로워 수(백만명)  4376 non-null   float64\n",
      " 11  성공확률            4376 non-null   float64\n",
      " 12  연매출             4376 non-null   float64\n",
      " 13  기업가치            4376 non-null   int32  \n",
      "dtypes: float64(7), int32(1), int64(1), object(5)\n",
      "memory usage: 461.7+ KB\n"
     ]
    }
   ],
   "source": [
    "company_df.info()"
   ]
  },
  {
   "cell_type": "code",
   "execution_count": 30,
   "id": "85e8d3a5-a35b-4587-b1de-de480b66a1ec",
   "metadata": {},
   "outputs": [
    {
     "data": {
      "text/html": [
       "<div>\n",
       "<style scoped>\n",
       "    .dataframe tbody tr th:only-of-type {\n",
       "        vertical-align: middle;\n",
       "    }\n",
       "\n",
       "    .dataframe tbody tr th {\n",
       "        vertical-align: top;\n",
       "    }\n",
       "\n",
       "    .dataframe thead th {\n",
       "        text-align: right;\n",
       "    }\n",
       "</style>\n",
       "<table border=\"1\" class=\"dataframe\">\n",
       "  <thead>\n",
       "    <tr style=\"text-align: right;\">\n",
       "      <th></th>\n",
       "      <th>설립연도</th>\n",
       "      <th>국가</th>\n",
       "      <th>분야</th>\n",
       "      <th>투자단계</th>\n",
       "      <th>직원 수</th>\n",
       "      <th>인수여부</th>\n",
       "      <th>상장여부</th>\n",
       "      <th>고객수(백만명)</th>\n",
       "      <th>총 투자금(억원)</th>\n",
       "      <th>연매출(억원)</th>\n",
       "      <th>SNS 팔로워 수(백만명)</th>\n",
       "      <th>성공확률</th>\n",
       "      <th>연매출</th>\n",
       "      <th>기업가치</th>\n",
       "    </tr>\n",
       "  </thead>\n",
       "  <tbody>\n",
       "    <tr>\n",
       "      <th>0</th>\n",
       "      <td>2009</td>\n",
       "      <td>CT005</td>\n",
       "      <td>이커머스</td>\n",
       "      <td>Series A</td>\n",
       "      <td>4126.0</td>\n",
       "      <td>No</td>\n",
       "      <td>No</td>\n",
       "      <td>56.000000</td>\n",
       "      <td>3365.0</td>\n",
       "      <td>4764.0</td>\n",
       "      <td>4.71</td>\n",
       "      <td>0.3</td>\n",
       "      <td>4.0</td>\n",
       "      <td>0</td>\n",
       "    </tr>\n",
       "    <tr>\n",
       "      <th>1</th>\n",
       "      <td>2023</td>\n",
       "      <td>CT006</td>\n",
       "      <td>핀테크</td>\n",
       "      <td>Seed</td>\n",
       "      <td>4167.0</td>\n",
       "      <td>Yes</td>\n",
       "      <td>No</td>\n",
       "      <td>80.000000</td>\n",
       "      <td>4069.0</td>\n",
       "      <td>279.0</td>\n",
       "      <td>1.00</td>\n",
       "      <td>0.8</td>\n",
       "      <td>0.0</td>\n",
       "      <td>2</td>\n",
       "    </tr>\n",
       "    <tr>\n",
       "      <th>2</th>\n",
       "      <td>2018</td>\n",
       "      <td>CT007</td>\n",
       "      <td>기술</td>\n",
       "      <td>Series A</td>\n",
       "      <td>3132.0</td>\n",
       "      <td>Yes</td>\n",
       "      <td>Yes</td>\n",
       "      <td>54.000000</td>\n",
       "      <td>6453.0</td>\n",
       "      <td>12141.0</td>\n",
       "      <td>4.00</td>\n",
       "      <td>0.5</td>\n",
       "      <td>12.0</td>\n",
       "      <td>3</td>\n",
       "    </tr>\n",
       "    <tr>\n",
       "      <th>3</th>\n",
       "      <td>2016</td>\n",
       "      <td>CT006</td>\n",
       "      <td>None</td>\n",
       "      <td>Seed</td>\n",
       "      <td>3245.0</td>\n",
       "      <td>Yes</td>\n",
       "      <td>Yes</td>\n",
       "      <td>49.214332</td>\n",
       "      <td>665.0</td>\n",
       "      <td>10547.0</td>\n",
       "      <td>2.97</td>\n",
       "      <td>0.7</td>\n",
       "      <td>10.0</td>\n",
       "      <td>0</td>\n",
       "    </tr>\n",
       "    <tr>\n",
       "      <th>4</th>\n",
       "      <td>2020</td>\n",
       "      <td>CT002</td>\n",
       "      <td>에듀테크</td>\n",
       "      <td>Seed</td>\n",
       "      <td>1969.0</td>\n",
       "      <td>No</td>\n",
       "      <td>Yes</td>\n",
       "      <td>94.000000</td>\n",
       "      <td>829.0</td>\n",
       "      <td>9810.0</td>\n",
       "      <td>1.00</td>\n",
       "      <td>0.1</td>\n",
       "      <td>9.0</td>\n",
       "      <td>1</td>\n",
       "    </tr>\n",
       "  </tbody>\n",
       "</table>\n",
       "</div>"
      ],
      "text/plain": [
       "   설립연도     국가    분야      투자단계    직원 수 인수여부 상장여부   고객수(백만명)  총 투자금(억원)  \\\n",
       "0  2009  CT005  이커머스  Series A  4126.0   No   No  56.000000     3365.0   \n",
       "1  2023  CT006   핀테크      Seed  4167.0  Yes   No  80.000000     4069.0   \n",
       "2  2018  CT007    기술  Series A  3132.0  Yes  Yes  54.000000     6453.0   \n",
       "3  2016  CT006  None      Seed  3245.0  Yes  Yes  49.214332      665.0   \n",
       "4  2020  CT002  에듀테크      Seed  1969.0   No  Yes  94.000000      829.0   \n",
       "\n",
       "   연매출(억원)  SNS 팔로워 수(백만명)  성공확률   연매출  기업가치  \n",
       "0   4764.0            4.71   0.3   4.0     0  \n",
       "1    279.0            1.00   0.8   0.0     2  \n",
       "2  12141.0            4.00   0.5  12.0     3  \n",
       "3  10547.0            2.97   0.7  10.0     0  \n",
       "4   9810.0            1.00   0.1   9.0     1  "
      ]
     },
     "execution_count": 30,
     "metadata": {},
     "output_type": "execute_result"
    }
   ],
   "source": [
    "company_df.head()"
   ]
  },
  {
   "cell_type": "code",
   "execution_count": 31,
   "id": "eaea3ebf-ca58-4d26-bf95-ee644a5c7373",
   "metadata": {},
   "outputs": [
    {
     "data": {
      "text/plain": [
       "설립연도              0\n",
       "국가                0\n",
       "분야                0\n",
       "투자단계              0\n",
       "직원 수              0\n",
       "인수여부              0\n",
       "상장여부              0\n",
       "고객수(백만명)          0\n",
       "총 투자금(억원)         0\n",
       "연매출(억원)           0\n",
       "SNS 팔로워 수(백만명)    0\n",
       "성공확률              0\n",
       "연매출               0\n",
       "기업가치              0\n",
       "dtype: int64"
      ]
     },
     "execution_count": 31,
     "metadata": {},
     "output_type": "execute_result"
    }
   ],
   "source": [
    "company_df.isna().sum()"
   ]
  },
  {
   "cell_type": "code",
   "execution_count": 32,
   "id": "1808bde6-f7f1-44b1-86ab-6ef204934abb",
   "metadata": {},
   "outputs": [],
   "source": [
    "def fillna(df):\n",
    "    df['분야'].fillna('None', inplace = True)\n",
    "    df['직원 수'].fillna(df['직원 수'].mean(), inplace = True)\n",
    "    df['고객수(백만명)'].fillna(df['고객수(백만명)'].mean(), inplace = True)\n",
    "    df['기업가치(백억원)'].fillna('0000', inplace = True)\n",
    "    return df \n",
    "def change(df):\n",
    "    df['기업가치(백억원)'] = df['기업가치(백억원)'].str[:4]\n",
    "    return df\n",
    "def drop(df):\n",
    "    df.drop('ID', axis = 1, inplace = True)\n",
    "    return df\n",
    "def format_features(df):\n",
    "    features = ['국가', '분야', '투자단계', '인수여부', '상장여부', '기업가치(백억원)']\n",
    "    for feature in features:\n",
    "        le = LabelEncoder()\n",
    "        le.fit(df[feature])\n",
    "        df[feature] = le.transform(df[feature])\n",
    "    return df\n"
   ]
  },
  {
   "cell_type": "code",
   "execution_count": 33,
   "id": "1d249b5b-63b2-4850-9e93-8f67145e4187",
   "metadata": {},
   "outputs": [],
   "source": [
    "df = pd.read_csv('company_train.csv')"
   ]
  },
  {
   "cell_type": "code",
   "execution_count": 34,
   "id": "fedf1e27-34c9-4fbf-a3d8-9e3df73718ff",
   "metadata": {},
   "outputs": [
    {
     "name": "stderr",
     "output_type": "stream",
     "text": [
      "C:\\Users\\sjune\\AppData\\Local\\Temp\\ipykernel_26692\\3449003085.py:2: FutureWarning: A value is trying to be set on a copy of a DataFrame or Series through chained assignment using an inplace method.\n",
      "The behavior will change in pandas 3.0. This inplace method will never work because the intermediate object on which we are setting values always behaves as a copy.\n",
      "\n",
      "For example, when doing 'df[col].method(value, inplace=True)', try using 'df.method({col: value}, inplace=True)' or df[col] = df[col].method(value) instead, to perform the operation inplace on the original object.\n",
      "\n",
      "\n",
      "  df['분야'].fillna('None', inplace = True)\n",
      "C:\\Users\\sjune\\AppData\\Local\\Temp\\ipykernel_26692\\3449003085.py:3: FutureWarning: A value is trying to be set on a copy of a DataFrame or Series through chained assignment using an inplace method.\n",
      "The behavior will change in pandas 3.0. This inplace method will never work because the intermediate object on which we are setting values always behaves as a copy.\n",
      "\n",
      "For example, when doing 'df[col].method(value, inplace=True)', try using 'df.method({col: value}, inplace=True)' or df[col] = df[col].method(value) instead, to perform the operation inplace on the original object.\n",
      "\n",
      "\n",
      "  df['직원 수'].fillna(df['직원 수'].mean(), inplace = True)\n",
      "C:\\Users\\sjune\\AppData\\Local\\Temp\\ipykernel_26692\\3449003085.py:4: FutureWarning: A value is trying to be set on a copy of a DataFrame or Series through chained assignment using an inplace method.\n",
      "The behavior will change in pandas 3.0. This inplace method will never work because the intermediate object on which we are setting values always behaves as a copy.\n",
      "\n",
      "For example, when doing 'df[col].method(value, inplace=True)', try using 'df.method({col: value}, inplace=True)' or df[col] = df[col].method(value) instead, to perform the operation inplace on the original object.\n",
      "\n",
      "\n",
      "  df['고객수(백만명)'].fillna(df['고객수(백만명)'].mean(), inplace = True)\n",
      "C:\\Users\\sjune\\AppData\\Local\\Temp\\ipykernel_26692\\3449003085.py:5: FutureWarning: A value is trying to be set on a copy of a DataFrame or Series through chained assignment using an inplace method.\n",
      "The behavior will change in pandas 3.0. This inplace method will never work because the intermediate object on which we are setting values always behaves as a copy.\n",
      "\n",
      "For example, when doing 'df[col].method(value, inplace=True)', try using 'df.method({col: value}, inplace=True)' or df[col] = df[col].method(value) instead, to perform the operation inplace on the original object.\n",
      "\n",
      "\n",
      "  df['기업가치(백억원)'].fillna('0000', inplace = True)\n"
     ]
    },
    {
     "data": {
      "text/html": [
       "<div>\n",
       "<style scoped>\n",
       "    .dataframe tbody tr th:only-of-type {\n",
       "        vertical-align: middle;\n",
       "    }\n",
       "\n",
       "    .dataframe tbody tr th {\n",
       "        vertical-align: top;\n",
       "    }\n",
       "\n",
       "    .dataframe thead th {\n",
       "        text-align: right;\n",
       "    }\n",
       "</style>\n",
       "<table border=\"1\" class=\"dataframe\">\n",
       "  <thead>\n",
       "    <tr style=\"text-align: right;\">\n",
       "      <th></th>\n",
       "      <th>설립연도</th>\n",
       "      <th>국가</th>\n",
       "      <th>분야</th>\n",
       "      <th>투자단계</th>\n",
       "      <th>직원 수</th>\n",
       "      <th>인수여부</th>\n",
       "      <th>상장여부</th>\n",
       "      <th>고객수(백만명)</th>\n",
       "      <th>총 투자금(억원)</th>\n",
       "      <th>연매출(억원)</th>\n",
       "      <th>SNS 팔로워 수(백만명)</th>\n",
       "      <th>기업가치(백억원)</th>\n",
       "      <th>성공확률</th>\n",
       "    </tr>\n",
       "  </thead>\n",
       "  <tbody>\n",
       "    <tr>\n",
       "      <th>0</th>\n",
       "      <td>2009</td>\n",
       "      <td>4</td>\n",
       "      <td>7</td>\n",
       "      <td>2</td>\n",
       "      <td>4126.0</td>\n",
       "      <td>0</td>\n",
       "      <td>0</td>\n",
       "      <td>56.000000</td>\n",
       "      <td>3365.0</td>\n",
       "      <td>4764.0</td>\n",
       "      <td>4.71</td>\n",
       "      <td>0</td>\n",
       "      <td>0.3</td>\n",
       "    </tr>\n",
       "    <tr>\n",
       "      <th>1</th>\n",
       "      <td>2023</td>\n",
       "      <td>5</td>\n",
       "      <td>9</td>\n",
       "      <td>1</td>\n",
       "      <td>4167.0</td>\n",
       "      <td>1</td>\n",
       "      <td>0</td>\n",
       "      <td>80.000000</td>\n",
       "      <td>4069.0</td>\n",
       "      <td>279.0</td>\n",
       "      <td>1.00</td>\n",
       "      <td>2</td>\n",
       "      <td>0.8</td>\n",
       "    </tr>\n",
       "    <tr>\n",
       "      <th>2</th>\n",
       "      <td>2018</td>\n",
       "      <td>6</td>\n",
       "      <td>3</td>\n",
       "      <td>2</td>\n",
       "      <td>3132.0</td>\n",
       "      <td>1</td>\n",
       "      <td>1</td>\n",
       "      <td>54.000000</td>\n",
       "      <td>6453.0</td>\n",
       "      <td>12141.0</td>\n",
       "      <td>4.00</td>\n",
       "      <td>3</td>\n",
       "      <td>0.5</td>\n",
       "    </tr>\n",
       "    <tr>\n",
       "      <th>3</th>\n",
       "      <td>2016</td>\n",
       "      <td>5</td>\n",
       "      <td>1</td>\n",
       "      <td>1</td>\n",
       "      <td>3245.0</td>\n",
       "      <td>1</td>\n",
       "      <td>1</td>\n",
       "      <td>49.214332</td>\n",
       "      <td>665.0</td>\n",
       "      <td>10547.0</td>\n",
       "      <td>2.97</td>\n",
       "      <td>0</td>\n",
       "      <td>0.7</td>\n",
       "    </tr>\n",
       "    <tr>\n",
       "      <th>4</th>\n",
       "      <td>2020</td>\n",
       "      <td>1</td>\n",
       "      <td>6</td>\n",
       "      <td>1</td>\n",
       "      <td>1969.0</td>\n",
       "      <td>0</td>\n",
       "      <td>1</td>\n",
       "      <td>94.000000</td>\n",
       "      <td>829.0</td>\n",
       "      <td>9810.0</td>\n",
       "      <td>1.00</td>\n",
       "      <td>1</td>\n",
       "      <td>0.1</td>\n",
       "    </tr>\n",
       "  </tbody>\n",
       "</table>\n",
       "</div>"
      ],
      "text/plain": [
       "   설립연도  국가  분야  투자단계    직원 수  인수여부  상장여부   고객수(백만명)  총 투자금(억원)  연매출(억원)  \\\n",
       "0  2009   4   7     2  4126.0     0     0  56.000000     3365.0   4764.0   \n",
       "1  2023   5   9     1  4167.0     1     0  80.000000     4069.0    279.0   \n",
       "2  2018   6   3     2  3132.0     1     1  54.000000     6453.0  12141.0   \n",
       "3  2016   5   1     1  3245.0     1     1  49.214332      665.0  10547.0   \n",
       "4  2020   1   6     1  1969.0     0     1  94.000000      829.0   9810.0   \n",
       "\n",
       "   SNS 팔로워 수(백만명)  기업가치(백억원)  성공확률  \n",
       "0            4.71          0   0.3  \n",
       "1            1.00          2   0.8  \n",
       "2            4.00          3   0.5  \n",
       "3            2.97          0   0.7  \n",
       "4            1.00          1   0.1  "
      ]
     },
     "execution_count": 34,
     "metadata": {},
     "output_type": "execute_result"
    }
   ],
   "source": [
    "df = fillna(df)\n",
    "df = change(df)\n",
    "df = drop(df)\n",
    "df = format_features(df)\n",
    "df.head()\n",
    "#ID 떨구기 \n",
    "#국가, 분야, 투자단계, 인수여부, 상장여부, 기업가치 "
   ]
  },
  {
   "cell_type": "code",
   "execution_count": 35,
   "id": "768ba178-d967-4363-9b35-b752734eb63b",
   "metadata": {},
   "outputs": [
    {
     "data": {
      "text/plain": [
       "설립연도              0\n",
       "국가                0\n",
       "분야                0\n",
       "투자단계              0\n",
       "직원 수              0\n",
       "인수여부              0\n",
       "상장여부              0\n",
       "고객수(백만명)          0\n",
       "총 투자금(억원)         0\n",
       "연매출(억원)           0\n",
       "SNS 팔로워 수(백만명)    0\n",
       "기업가치(백억원)         0\n",
       "성공확률              0\n",
       "dtype: int64"
      ]
     },
     "execution_count": 35,
     "metadata": {},
     "output_type": "execute_result"
    }
   ],
   "source": [
    "df.isna().sum()"
   ]
  },
  {
   "cell_type": "code",
   "execution_count": 36,
   "id": "0ea745f8-c488-46bb-be88-87594b025e91",
   "metadata": {},
   "outputs": [],
   "source": [
    "from sklearn.preprocessing import StandardScaler\n",
    "df.drop('성공확률', axis = 1, inplace = True)\n",
    "scaler = StandardScaler()\n",
    "scaler.fit(df)\n",
    "## dataframe으로 받기 위해 변형 \n",
    "numeric_cols = df.select_dtypes(include='number').columns \n",
    "df_scaled = pd.DataFrame(\n",
    "    scaler.transform(df[numeric_cols]),   # 또는 fit_transform\n",
    "    columns=numeric_cols,\n",
    "    index=df.index\n",
    ")\n"
   ]
  },
  {
   "cell_type": "code",
   "execution_count": 37,
   "id": "c6718632-ae4e-4442-a1ef-aba55324c7a2",
   "metadata": {},
   "outputs": [
    {
     "data": {
      "text/html": [
       "<div>\n",
       "<style scoped>\n",
       "    .dataframe tbody tr th:only-of-type {\n",
       "        vertical-align: middle;\n",
       "    }\n",
       "\n",
       "    .dataframe tbody tr th {\n",
       "        vertical-align: top;\n",
       "    }\n",
       "\n",
       "    .dataframe thead th {\n",
       "        text-align: right;\n",
       "    }\n",
       "</style>\n",
       "<table border=\"1\" class=\"dataframe\">\n",
       "  <thead>\n",
       "    <tr style=\"text-align: right;\">\n",
       "      <th></th>\n",
       "      <th>설립연도</th>\n",
       "      <th>국가</th>\n",
       "      <th>분야</th>\n",
       "      <th>투자단계</th>\n",
       "      <th>직원 수</th>\n",
       "      <th>인수여부</th>\n",
       "      <th>상장여부</th>\n",
       "      <th>고객수(백만명)</th>\n",
       "      <th>총 투자금(억원)</th>\n",
       "      <th>연매출(억원)</th>\n",
       "      <th>SNS 팔로워 수(백만명)</th>\n",
       "      <th>기업가치(백억원)</th>\n",
       "    </tr>\n",
       "  </thead>\n",
       "  <tbody>\n",
       "    <tr>\n",
       "      <th>0</th>\n",
       "      <td>-0.458773</td>\n",
       "      <td>-0.152978</td>\n",
       "      <td>0.799129</td>\n",
       "      <td>0.036385</td>\n",
       "      <td>1.167851</td>\n",
       "      <td>-1.032049</td>\n",
       "      <td>-0.966290</td>\n",
       "      <td>0.299224</td>\n",
       "      <td>0.026827</td>\n",
       "      <td>-0.446336</td>\n",
       "      <td>1.507250</td>\n",
       "      <td>-1.205150</td>\n",
       "    </tr>\n",
       "    <tr>\n",
       "      <th>1</th>\n",
       "      <td>1.677287</td>\n",
       "      <td>0.191380</td>\n",
       "      <td>1.426166</td>\n",
       "      <td>-0.668137</td>\n",
       "      <td>1.196789</td>\n",
       "      <td>0.968946</td>\n",
       "      <td>-0.966290</td>\n",
       "      <td>1.357538</td>\n",
       "      <td>0.401317</td>\n",
       "      <td>-1.632103</td>\n",
       "      <td>-1.115718</td>\n",
       "      <td>-0.089724</td>\n",
       "    </tr>\n",
       "    <tr>\n",
       "      <th>2</th>\n",
       "      <td>0.914408</td>\n",
       "      <td>0.535739</td>\n",
       "      <td>-0.454946</td>\n",
       "      <td>0.036385</td>\n",
       "      <td>0.466297</td>\n",
       "      <td>0.968946</td>\n",
       "      <td>1.034886</td>\n",
       "      <td>0.211031</td>\n",
       "      <td>1.669477</td>\n",
       "      <td>1.504034</td>\n",
       "      <td>1.005280</td>\n",
       "      <td>0.467990</td>\n",
       "    </tr>\n",
       "    <tr>\n",
       "      <th>3</th>\n",
       "      <td>0.609257</td>\n",
       "      <td>0.191380</td>\n",
       "      <td>-1.081983</td>\n",
       "      <td>-0.668137</td>\n",
       "      <td>0.546052</td>\n",
       "      <td>0.968946</td>\n",
       "      <td>1.034886</td>\n",
       "      <td>0.000000</td>\n",
       "      <td>-1.409428</td>\n",
       "      <td>1.082604</td>\n",
       "      <td>0.277071</td>\n",
       "      <td>-1.205150</td>\n",
       "    </tr>\n",
       "    <tr>\n",
       "      <th>4</th>\n",
       "      <td>1.219560</td>\n",
       "      <td>-1.186055</td>\n",
       "      <td>0.485610</td>\n",
       "      <td>-0.668137</td>\n",
       "      <td>-0.354535</td>\n",
       "      <td>-1.032049</td>\n",
       "      <td>1.034886</td>\n",
       "      <td>1.974888</td>\n",
       "      <td>-1.322189</td>\n",
       "      <td>0.887752</td>\n",
       "      <td>-1.115718</td>\n",
       "      <td>-0.647437</td>\n",
       "    </tr>\n",
       "    <tr>\n",
       "      <th>5</th>\n",
       "      <td>-0.001046</td>\n",
       "      <td>0.880098</td>\n",
       "      <td>-0.454946</td>\n",
       "      <td>1.445430</td>\n",
       "      <td>0.938470</td>\n",
       "      <td>-1.032049</td>\n",
       "      <td>1.034886</td>\n",
       "      <td>0.872477</td>\n",
       "      <td>1.697138</td>\n",
       "      <td>1.657642</td>\n",
       "      <td>0.298281</td>\n",
       "      <td>-0.089724</td>\n",
       "    </tr>\n",
       "    <tr>\n",
       "      <th>6</th>\n",
       "      <td>-0.611349</td>\n",
       "      <td>1.568816</td>\n",
       "      <td>-1.081983</td>\n",
       "      <td>0.740908</td>\n",
       "      <td>-1.166898</td>\n",
       "      <td>-1.032049</td>\n",
       "      <td>1.034886</td>\n",
       "      <td>0.000000</td>\n",
       "      <td>-0.141268</td>\n",
       "      <td>-1.529786</td>\n",
       "      <td>-1.285398</td>\n",
       "      <td>-0.089724</td>\n",
       "    </tr>\n",
       "    <tr>\n",
       "      <th>7</th>\n",
       "      <td>1.219560</td>\n",
       "      <td>-1.186055</td>\n",
       "      <td>-0.768465</td>\n",
       "      <td>0.036385</td>\n",
       "      <td>0.102816</td>\n",
       "      <td>-1.032049</td>\n",
       "      <td>-0.966290</td>\n",
       "      <td>1.357538</td>\n",
       "      <td>1.204556</td>\n",
       "      <td>-0.278451</td>\n",
       "      <td>1.005280</td>\n",
       "      <td>0.467990</td>\n",
       "    </tr>\n",
       "    <tr>\n",
       "      <th>8</th>\n",
       "      <td>-1.069076</td>\n",
       "      <td>-1.186055</td>\n",
       "      <td>-1.081983</td>\n",
       "      <td>0.740908</td>\n",
       "      <td>0.000000</td>\n",
       "      <td>-1.032049</td>\n",
       "      <td>-0.966290</td>\n",
       "      <td>0.000000</td>\n",
       "      <td>-0.315215</td>\n",
       "      <td>-1.026925</td>\n",
       "      <td>1.669860</td>\n",
       "      <td>-1.205150</td>\n",
       "    </tr>\n",
       "    <tr>\n",
       "      <th>9</th>\n",
       "      <td>-0.458773</td>\n",
       "      <td>0.880098</td>\n",
       "      <td>-1.081983</td>\n",
       "      <td>0.740908</td>\n",
       "      <td>-0.504162</td>\n",
       "      <td>-1.032049</td>\n",
       "      <td>-0.966290</td>\n",
       "      <td>0.000000</td>\n",
       "      <td>-1.611568</td>\n",
       "      <td>1.402774</td>\n",
       "      <td>-0.175409</td>\n",
       "      <td>-1.205150</td>\n",
       "    </tr>\n",
       "  </tbody>\n",
       "</table>\n",
       "</div>"
      ],
      "text/plain": [
       "       설립연도        국가        분야      투자단계      직원 수      인수여부      상장여부  \\\n",
       "0 -0.458773 -0.152978  0.799129  0.036385  1.167851 -1.032049 -0.966290   \n",
       "1  1.677287  0.191380  1.426166 -0.668137  1.196789  0.968946 -0.966290   \n",
       "2  0.914408  0.535739 -0.454946  0.036385  0.466297  0.968946  1.034886   \n",
       "3  0.609257  0.191380 -1.081983 -0.668137  0.546052  0.968946  1.034886   \n",
       "4  1.219560 -1.186055  0.485610 -0.668137 -0.354535 -1.032049  1.034886   \n",
       "5 -0.001046  0.880098 -0.454946  1.445430  0.938470 -1.032049  1.034886   \n",
       "6 -0.611349  1.568816 -1.081983  0.740908 -1.166898 -1.032049  1.034886   \n",
       "7  1.219560 -1.186055 -0.768465  0.036385  0.102816 -1.032049 -0.966290   \n",
       "8 -1.069076 -1.186055 -1.081983  0.740908  0.000000 -1.032049 -0.966290   \n",
       "9 -0.458773  0.880098 -1.081983  0.740908 -0.504162 -1.032049 -0.966290   \n",
       "\n",
       "   고객수(백만명)  총 투자금(억원)   연매출(억원)  SNS 팔로워 수(백만명)  기업가치(백억원)  \n",
       "0  0.299224   0.026827 -0.446336        1.507250  -1.205150  \n",
       "1  1.357538   0.401317 -1.632103       -1.115718  -0.089724  \n",
       "2  0.211031   1.669477  1.504034        1.005280   0.467990  \n",
       "3  0.000000  -1.409428  1.082604        0.277071  -1.205150  \n",
       "4  1.974888  -1.322189  0.887752       -1.115718  -0.647437  \n",
       "5  0.872477   1.697138  1.657642        0.298281  -0.089724  \n",
       "6  0.000000  -0.141268 -1.529786       -1.285398  -0.089724  \n",
       "7  1.357538   1.204556 -0.278451        1.005280   0.467990  \n",
       "8  0.000000  -0.315215 -1.026925        1.669860  -1.205150  \n",
       "9  0.000000  -1.611568  1.402774       -0.175409  -1.205150  "
      ]
     },
     "execution_count": 37,
     "metadata": {},
     "output_type": "execute_result"
    }
   ],
   "source": [
    "df_scaled.head(10)"
   ]
  },
  {
   "cell_type": "code",
   "execution_count": 38,
   "id": "4d7c7e9f-626a-47e5-aebc-c30643e17f4d",
   "metadata": {},
   "outputs": [],
   "source": [
    "df_scaled1 = scaler.transform(df)"
   ]
  },
  {
   "cell_type": "code",
   "execution_count": 39,
   "id": "9264fd69-a730-41a5-bae7-3168e3d4ff38",
   "metadata": {},
   "outputs": [
    {
     "data": {
      "text/plain": [
       "array([-0.45877311, -0.15297848,  0.7991286 ,  0.0363853 ,  1.16785146,\n",
       "       -1.03204896, -0.96628997,  0.29922365,  0.02682682, -0.44633564,\n",
       "        1.50724977, -1.20515018])"
      ]
     },
     "execution_count": 39,
     "metadata": {},
     "output_type": "execute_result"
    }
   ],
   "source": [
    "df_scaled1[0, :]"
   ]
  },
  {
   "cell_type": "code",
   "execution_count": null,
   "id": "59d3fb4b-08a0-4abc-b148-60a1dfdf0c67",
   "metadata": {},
   "outputs": [],
   "source": []
  }
 ],
 "metadata": {
  "kernelspec": {
   "display_name": "Python 3 (ipykernel)",
   "language": "python",
   "name": "python3"
  },
  "language_info": {
   "codemirror_mode": {
    "name": "ipython",
    "version": 3
   },
   "file_extension": ".py",
   "mimetype": "text/x-python",
   "name": "python",
   "nbconvert_exporter": "python",
   "pygments_lexer": "ipython3",
   "version": "3.12.7"
  }
 },
 "nbformat": 4,
 "nbformat_minor": 5
}
